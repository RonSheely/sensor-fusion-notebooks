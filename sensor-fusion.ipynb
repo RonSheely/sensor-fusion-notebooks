{
 "cells": [
  {
   "cell_type": "markdown",
   "metadata": {},
   "source": [
    "# Sensor fusion"
   ]
  },
  {
   "cell_type": "markdown",
   "metadata": {},
   "source": [
    "## [Random variables](random-variables/random_variables.ipynb)\n",
    "## [Estimation](random-variables/BLUE_demo1.ipynb)\n",
    "## [Dead reckoning](sensor-fusion/dead_reckoning.ipynb)\n",
    "## [Kalman filters](sensor-fusion/kalman_filters.ipynb)\n",
    "## [Extended Kalman filters](sensor-fusion/extended_kalman_filters.ipynb)\n",
    "## [Particle filters](sensor-fusion/particle_filters.ipynb)\n",
    "## [Motion models](sensor-fusion/motion_model_demo1.ipynb)"
   ]
  }
 ],
 "metadata": {
  "kernelspec": {
   "display_name": "Python 3",
   "language": "python",
   "name": "python3"
  },
  "language_info": {
   "codemirror_mode": {
    "name": "ipython",
    "version": 3
   },
   "file_extension": ".py",
   "mimetype": "text/x-python",
   "name": "python",
   "nbconvert_exporter": "python",
   "pygments_lexer": "ipython3",
   "version": "3.5.2"
  }
 },
 "nbformat": 4,
 "nbformat_minor": 2
}
