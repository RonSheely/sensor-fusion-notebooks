{
 "cells": [
  {
   "cell_type": "markdown",
   "metadata": {},
   "source": [
    "# Sensor fusion for robotics\n",
    "\n",
    "M.P. Hayes, Electrical and Computer Engineering, University of Canterbury\n",
    "\n",
    "The code for these demos is available from https://eng-git.canterbury.ac.nz/mph/sensor-fusion-notebooks."
   ]
  },
  {
   "cell_type": "markdown",
   "metadata": {},
   "source": [
    "## [Best linear unbiased estimation](random-variables/BLUE_demo1.ipynb)\n",
    "## [Random variables](random-variables/random_variables.ipynb)\n",
    "## [Sensor model](sensor-fusion/sensor_model1.ipynb)\n",
    "## [Motion model and dead reckoning](sensor-fusion/dead_reckoning.ipynb)\n",
    "## [Kalman filters](sensor-fusion/kalman_filter.ipynb)\n",
    "## [Extended Kalman filters](sensor-fusion/extended_kalman_filter.ipynb)\n",
    "## [Bayes filters](sensor-fusion/bayes_filter.ipynb)\n",
    "## [Histogram filters](sensor-fusion/histogram_filters.ipynb)\n",
    "## [Particle filters](sensor-fusion/particle_filters.ipynb)\n",
    "## [Multivariate beliefs](random-variables/multivariate_beliefs.ipynb)\n",
    "## [Motion models](sensor-fusion/motion_model_demo1.ipynb)"
   ]
  }
 ],
 "metadata": {
  "kernelspec": {
   "display_name": "Python 3",
   "language": "python",
   "name": "python3"
  },
  "language_info": {
   "codemirror_mode": {
    "name": "ipython",
    "version": 3
   },
   "file_extension": ".py",
   "mimetype": "text/x-python",
   "name": "python",
   "nbconvert_exporter": "python",
   "pygments_lexer": "ipython3",
   "version": "3.5.2"
  }
 },
 "nbformat": 4,
 "nbformat_minor": 2
}
