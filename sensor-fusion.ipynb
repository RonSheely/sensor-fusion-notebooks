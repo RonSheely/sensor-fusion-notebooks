{
 "cells": [
  {
   "cell_type": "markdown",
   "metadata": {},
   "source": [
    "# Sensor Fusion For Autonomous Robots\n",
    "\n",
    "M.P. Hayes, Electrical and Computer Engineering, University of Canterbury, New Zealand\n",
    "\n",
    "The code for these demos is available from https://eng-git.canterbury.ac.nz/mph/sensor-fusion-notebooks. \n",
    "\n",
    "Select the Run All option of the Cell menu to run all the cells. \n",
    "\n",
    "[Click here](sensor-fusion/git-update.ipynb) to update the notebook files.  To report a bug, see https://eng-git.canterbury.ac.nz/mph/sensor-fusion-notebooks/issues/new."
   ]
  },
  {
   "cell_type": "markdown",
   "metadata": {},
   "source": [
    "## 1. [Random variables](random-variables/random_variables.ipynb)\n",
    "## 2. [Sensor models](sensor-fusion/sensor_model1.ipynb)\n",
    "## 3. [Likelihoods](sensor-fusion/likelihoods.ipynb)\n",
    "## 4. [Best linear unbiased estimation](random-variables/BLUE_demo1.ipynb)\n",
    "## 5. [Motion models and dead reckoning](sensor-fusion/dead_reckoning.ipynb)\n",
    "## 6. [Bayesian estimation](sensor-fusion/bayesian_estimation.ipynb)\n",
    "## 7. [Kalman filters](sensor-fusion/kalman_filter.ipynb)\n",
    "## 8. [Extended Kalman filters](sensor-fusion/extended_kalman_filter.ipynb)\n",
    "## 9. [Histogram filters](sensor-fusion/histogram_filters.ipynb)\n",
    "## 10. [Particle filters](sensor-fusion/particle_filters.ipynb)\n",
    "## 11. [Multivariate beliefs](random-variables/multivariate_beliefs.ipynb)\n",
    "## 12. [Multivariate particle filters](sensor-fusion/multivariate_particle_filters.ipynb)\n",
    "## 13. [Robot motion models](sensor-fusion/motion_models.ipynb)\n",
    "## 14. [Probabilistic robot motion models](sensor-fusion/probabilistic_motion_models.ipynb)\n",
    "## 15. [Mapping](sensor-fusion/mapping.ipynb)\n",
    "## 16. [Navigation](sensor-fusion/navigation.ipynb)"
   ]
  }
 ],
 "metadata": {
  "kernelspec": {
   "display_name": "Python 3",
   "language": "python",
   "name": "python3"
  },
  "language_info": {
   "codemirror_mode": {
    "name": "ipython",
    "version": 3
   },
   "file_extension": ".py",
   "mimetype": "text/x-python",
   "name": "python",
   "nbconvert_exporter": "python",
   "pygments_lexer": "ipython3",
   "version": "3.7.7"
  }
 },
 "nbformat": 4,
 "nbformat_minor": 2
}
