{
 "cells": [
  {
   "cell_type": "markdown",
   "metadata": {},
   "source": [
    "# Sensor Fusion For Autonomous Robots\n",
    "\n",
    "M.P. Hayes, Electrical and Computer Engineering, University of Canterbury\n",
    "\n",
    "The code for these demos is available from https://eng-git.canterbury.ac.nz/mph/sensor-fusion-notebooks.  \n",
    "\n",
    "[Click here](sensor-fusion/git-update.ipynb) to update the notebook files.  To report a bug, see https://eng-git.canterbury.ac.nz/mph/sensor-fusion-notebooks/issues/new."
   ]
  },
  {
   "cell_type": "markdown",
   "metadata": {},
   "source": [
    "## [Best linear unbiased estimation](random-variables/BLUE_demo1.ipynb)\n",
    "## [Random variables](random-variables/random_variables.ipynb)\n",
    "## [Sensor models](sensor-fusion/sensor_model1.ipynb)\n",
    "## [Likelihoods](sensor-fusion/likelihoods.ipynb)\n",
    "## [Motion models and dead reckoning](sensor-fusion/dead_reckoning.ipynb)\n",
    "## [Kalman filters](sensor-fusion/kalman_filter.ipynb)\n",
    "## [Extended Kalman filters](sensor-fusion/extended_kalman_filter.ipynb)\n",
    "## [Bayes' filters](sensor-fusion/bayes_filter.ipynb)\n",
    "## [Histogram filters](sensor-fusion/histogram_filters.ipynb)\n",
    "## [Particle filters](sensor-fusion/particle_filters.ipynb)\n",
    "## [Multivariate beliefs](random-variables/multivariate_beliefs.ipynb)\n",
    "## [Robot motion models](sensor-fusion/motion_models.ipynb)\n",
    "## [Probabilistic robot motion models](sensor-fusion/probabilistic_motion_models.ipynb)\n",
    "## [Mapping](sensor-fusion/mapping.ipynb)\n",
    "## [Navigation](sensor-fusion/navigation.ipynb)"
   ]
  }
 ],
 "metadata": {
  "kernelspec": {
   "display_name": "Python 3",
   "language": "python",
   "name": "python3"
  },
  "language_info": {
   "codemirror_mode": {
    "name": "ipython",
    "version": 3
   },
   "file_extension": ".py",
   "mimetype": "text/x-python",
   "name": "python",
   "nbconvert_exporter": "python",
   "pygments_lexer": "ipython3",
   "version": "3.5.2"
  }
 },
 "nbformat": 4,
 "nbformat_minor": 2
}
