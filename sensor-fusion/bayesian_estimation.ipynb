{
 "cells": [
  {
   "cell_type": "markdown",
   "metadata": {},
   "source": [
    "# Bayesian estimation\n",
    "\n",
    "From the [likelihood function](likelihoods.ipynb) we can determine the maximum likelihood estimate, $\\hat{x}$, from the mode of the likelihood function or the expected likelihood from the mean of the likelihood function.  However, if we have a prior $f_X(x)$ for $X$, we can get a better (lower variance) estimate using Bayes' theorem.  For continuous random variables:\n",
    "\n",
    "$$f_{X|Z}(x|z) = \\eta L(x|z) f_X(x),$$\n",
    "\n",
    "where $\\eta$ is a normalising constant to ensure that the posterior distribution, $f_{X|Z}(x|z)$, has unit area. "
   ]
  },
  {
   "cell_type": "markdown",
   "metadata": {},
   "source": [
    "## Constant noise variance\n",
    "\n",
    "The following demo uses an additive sensor model\n",
    "\n",
    "$$Z = X + V$$\n",
    "\n",
    "where $X$ is a random variable representing the unknown state and $V$ is zero mean random variable representing the sensor noise.  muX is the mean of the prior, sigmaX is the standard deviation of the prior, sigmaV is the standard deviation of the sensor noise.\n",
    "\n",
    "The likelihood function for this model is\n",
    "\n",
    "$$L(x|z) = f_{Z|X}(z|x) = f_V(z - x).$$\n"
   ]
  },
  {
   "cell_type": "code",
   "execution_count": 1,
   "metadata": {},
   "outputs": [
    {
     "data": {
      "application/vnd.jupyter.widget-view+json": {
       "model_id": "92bf2d90f40245d29cffddb42dc20296",
       "version_major": 2,
       "version_minor": 0
      },
      "text/plain": [
       "interactive(children=(IntSlider(value=0, description='muX', max=2, min=-2), FloatSlider(value=1.0, description…"
      ]
     },
     "metadata": {},
     "output_type": "display_data"
    }
   ],
   "source": [
    "%matplotlib inline\n",
    "from demos import bayes_demo1\n",
    "bayes_demo1();"
   ]
  },
  {
   "cell_type": "markdown",
   "metadata": {},
   "source": [
    "From the posterior distribution, we can get the maximum a posteriori (MAP) estimate from the mode.  Alternatively, we can get the minimum mean squared error (MMSE) estimate from the mean."
   ]
  },
  {
   "cell_type": "markdown",
   "metadata": {},
   "source": [
    "## Range varying noise variance\n",
    "\n",
    "Often the variance of the sensor noise is not constant.  For example, the variance of a distance sensor increases with range.   This can be modelled as,\n",
    "\n",
    "$$Z = X + V(X).$$\n",
    "\n",
    "Assuming zero-mean Gaussian noise where the variance varies with the absolute value of the expected value of $X$, then\n",
    "\n",
    "$$\\sigma^2_{V(X)} = \\left|E[X]\\right|.$$\n",
    "\n",
    "In practice, the noise variance will not be zero at $x=0$, so a better model will be of the form\n",
    "\n",
    "$$\\sigma^2_{V(X)} = a \\left|E[X]\\right| + b,$$\n",
    "\n",
    "where $a$ and $b$ are constants.  Since the noise is additive, the likelihood function is\n",
    "\n",
    "$$L(x|z) = f_{V(X)}(z - x).$$"
   ]
  },
  {
   "cell_type": "code",
   "execution_count": 2,
   "metadata": {},
   "outputs": [
    {
     "data": {
      "application/vnd.jupyter.widget-view+json": {
       "model_id": "3f312da1077c4ebaba978991658f5ecc",
       "version_major": 2,
       "version_minor": 0
      },
      "text/plain": [
       "interactive(children=(FloatSlider(value=1.0, description='muX', max=4.0, step=0.2), FloatSlider(value=1.0, des…"
      ]
     },
     "metadata": {},
     "output_type": "display_data"
    }
   ],
   "source": [
    "from demos import bayes_demo2\n",
    "bayes_demo2();"
   ]
  },
  {
   "cell_type": "markdown",
   "metadata": {},
   "source": [
    "## Ambiguous sensor\n",
    "\n",
    "The following demo shows a sensor with an ambiguous output.  The sensor model is\n",
    "\n",
    "$$Z = h(X) + V,$$\n",
    "\n",
    "where\n",
    "\n",
    "$$h(x) = \\left\\{ \\begin{array}{ll} ax & x \\le d \\\\ a\\frac{d^2}{x} & x > d \\end{array}\\right..$$\n",
    "\n",
    "The likelihood function is\n",
    "\n",
    "$$L(x|z) = f_V(z - h(x)).$$\n",
    "\n",
    "This has an ambiguity.  However, with a sufficiently narrow prior, the ambiguity can be resolved using Bayes' theorem."
   ]
  },
  {
   "cell_type": "code",
   "execution_count": 3,
   "metadata": {},
   "outputs": [
    {
     "data": {
      "application/vnd.jupyter.widget-view+json": {
       "model_id": "616ab9e0643e4b05962ae4c0d0f8cba7",
       "version_major": 2,
       "version_minor": 0
      },
      "text/plain": [
       "interactive(children=(Checkbox(value=True, description='show_model'), FloatSlider(value=2.0, description='muX'…"
      ]
     },
     "metadata": {},
     "output_type": "display_data"
    }
   ],
   "source": [
    "from demos import bayes_demo3\n",
    "bayes_demo3();"
   ]
  }
 ],
 "metadata": {
  "kernelspec": {
   "display_name": "Python 3 (ipykernel)",
   "language": "python",
   "name": "python3"
  },
  "language_info": {
   "codemirror_mode": {
    "name": "ipython",
    "version": 3
   },
   "file_extension": ".py",
   "mimetype": "text/x-python",
   "name": "python",
   "nbconvert_exporter": "python",
   "pygments_lexer": "ipython3",
   "version": "3.7.11"
  }
 },
 "nbformat": 4,
 "nbformat_minor": 2
}
