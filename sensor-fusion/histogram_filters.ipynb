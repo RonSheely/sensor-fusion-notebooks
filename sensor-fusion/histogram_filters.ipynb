{
 "cells": [
  {
   "cell_type": "markdown",
   "metadata": {},
   "source": [
    "# Histogram filter\n",
    "\n",
    "Histogram filters represent beliefs with histograms.  In the following demo, $M$ is the number of bins in the histogram; making this larger better approximates the beliefs.\n",
    "\n",
    "A constant speed motion model is assumed where\n",
    "\n",
    "$$X_n = X_{n-1} + u_{n-1}\\Delta t + W_n.$$\n",
    "\n",
    "The conditional probability for the motion model is thus\n",
    "\n",
    "$$f_{X_n|X_{n-1}}(x_n|x_{n-1}) = f_{W_n}(x_n - x_{n-1} - u_{n-1}\\Delta t).$$\n",
    "\n",
    "The sensor model is\n",
    "\n",
    "$$Z_n = X_n + V_n,$$\n",
    "\n",
    "with a likelihood function\n",
    "\n",
    "$$L_{X_n|Z_n}(x_n|z_n) = f_{V_n}(z_n - x_n).$$\n",
    "\n",
    "In the following demo $u_{n-1} \\Delta t = 2$, the process noise $W_n$ is Gaussian distributed, and the sensor noise is Gaussian distributed."
   ]
  },
  {
   "cell_type": "code",
   "execution_count": 1,
   "metadata": {},
   "outputs": [
    {
     "data": {
      "application/vnd.jupyter.widget-view+json": {
       "model_id": "293d30ab631c4abdbfb6dc659dba0333",
       "version_major": 2,
       "version_minor": 0
      },
      "text/plain": [
       "interactive(children=(FloatSlider(value=0.4, description='sigmaX0', max=1.0, min=0.1), FloatSlider(value=0.1, …"
      ]
     },
     "metadata": {},
     "output_type": "display_data"
    }
   ],
   "source": [
    "%matplotlib inline\n",
    "from demos import hf_demo1\n",
    "hf_demo1();"
   ]
  },
  {
   "cell_type": "code",
   "execution_count": 2,
   "metadata": {
    "scrolled": true
   },
   "outputs": [
    {
     "data": {
      "application/vnd.jupyter.widget-view+json": {
       "model_id": "b83e7c65d683445b9c7a150174dce472",
       "version_major": 2,
       "version_minor": 0
      },
      "text/plain": [
       "interactive(children=(Dropdown(description='distX0', index=1, options=('uniform', 'gaussian'), value='gaussian…"
      ]
     },
     "metadata": {},
     "output_type": "display_data"
    }
   ],
   "source": [
    "from demos import hf_demo2\n",
    "hf_demo2();"
   ]
  },
  {
   "cell_type": "markdown",
   "metadata": {},
   "source": [
    "## Motion model conditional probability\n",
    "\n",
    "Consider a constant speed motion model with additive process noise\n",
    "\n",
    "$X_{n} = X_{n-1} + u_{n-1} \\Delta t + W_n.$\n",
    "\n",
    "The conditional probability of the current state given the previous state is\n",
    "\n",
    "$f_{X_{n}|X_{n-1}} = f_{W_n}(x_n - x_{n-1} - u_{n-1} \\Delta t).$\n"
   ]
  },
  {
   "cell_type": "code",
   "execution_count": 3,
   "metadata": {},
   "outputs": [
    {
     "data": {
      "application/vnd.jupyter.widget-view+json": {
       "model_id": "9cc0b4e05f57416ba57dfae782440100",
       "version_major": 2,
       "version_minor": 0
      },
      "text/plain": [
       "interactive(children=(FloatSlider(value=0.2, description='sigmaW', max=0.5, min=0.01, step=0.01), FloatSlider(…"
      ]
     },
     "metadata": {},
     "output_type": "display_data"
    }
   ],
   "source": [
    "from demos import bayes_motion_model_demo1\n",
    "bayes_motion_model_demo1();"
   ]
  }
 ],
 "metadata": {
  "kernelspec": {
   "display_name": "Python 3 (ipykernel)",
   "language": "python",
   "name": "python3"
  },
  "language_info": {
   "codemirror_mode": {
    "name": "ipython",
    "version": 3
   },
   "file_extension": ".py",
   "mimetype": "text/x-python",
   "name": "python",
   "nbconvert_exporter": "python",
   "pygments_lexer": "ipython3",
   "version": "3.7.11"
  }
 },
 "nbformat": 4,
 "nbformat_minor": 2
}
