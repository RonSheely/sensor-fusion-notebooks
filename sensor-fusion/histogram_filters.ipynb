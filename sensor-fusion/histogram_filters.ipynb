{
 "cells": [
  {
   "cell_type": "markdown",
   "metadata": {},
   "source": [
    "# Histogram filter\n",
    "\n",
    "Histogram filters represent beliefs with histograms.  In the following demo, $M$ is the number of bins in the histogram; making this larger better approximates the beliefs.\n",
    "\n",
    "A constant speed motion model is assumed where\n",
    "\n",
    "$$X_n = X_{n-1} + u_{n-1}\\Delta t + W_n.$$\n",
    "\n",
    "The conditional probability for the motion model is thus\n",
    "\n",
    "$$f_{X_n|X_{n-1}}(x_n|x_{n-1}) = f_{W_n}(x_n - x_{n-1} - u_{n-1}\\Delta t).$$\n",
    "\n",
    "The sensor model is\n",
    "\n",
    "$$Z_n = X_n + V_n,$$\n",
    "\n",
    "with a likelihood function\n",
    "\n",
    "$$L_{X_n|Z_n}(x_n|z_n) = f_{V_n}(z_n - x_n).$$\n",
    "\n",
    "In the following demo $u_{n-1} \\Delta t = 2$, the process noise $W_n$ is Gaussian distributed, and the sensor noise is Gaussian distributed."
   ]
  },
  {
   "cell_type": "code",
   "execution_count": 1,
   "metadata": {},
   "outputs": [
    {
     "data": {
      "application/vnd.jupyter.widget-view+json": {
       "model_id": "cdcab8ed40024428a445fcc80ac88247",
       "version_major": 2,
       "version_minor": 0
      },
      "text/plain": [
       "interactive(children=(Dropdown(description='distX0', index=1, options=('uniform', 'gaussian'), value='gaussian…"
      ]
     },
     "metadata": {},
     "output_type": "display_data"
    }
   ],
   "source": [
    "%matplotlib inline\n",
    "from demos import hf_demo1\n",
    "hf_demo1();"
   ]
  }
 ],
 "metadata": {
  "kernelspec": {
   "display_name": "Python 3",
   "language": "python",
   "name": "python3"
  },
  "language_info": {
   "codemirror_mode": {
    "name": "ipython",
    "version": 3
   },
   "file_extension": ".py",
   "mimetype": "text/x-python",
   "name": "python",
   "nbconvert_exporter": "python",
   "pygments_lexer": "ipython3",
   "version": "3.7.7"
  }
 },
 "nbformat": 4,
 "nbformat_minor": 2
}
