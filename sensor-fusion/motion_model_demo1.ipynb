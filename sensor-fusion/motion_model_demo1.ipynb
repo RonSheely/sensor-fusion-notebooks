{
 "cells": [
  {
   "cell_type": "markdown",
   "metadata": {},
   "source": [
    "# Wheeled robot motion model\n",
    "\n",
    "## Velocity motion model\n",
    "\n",
    "The following demo shows the velocity motion model for a wheeled robot with its posed represented by $(x, y, \\theta)$, where $\\theta$ is the heading (measured anti-clockwise from the x-axis).  The controls are linear speed, $v$, and angular speed, $\\omega$, and the time-step, $\\Delta t$, is 1 s."
   ]
  },
  {
   "cell_type": "code",
   "execution_count": 1,
   "metadata": {},
   "outputs": [
    {
     "data": {
      "application/vnd.jupyter.widget-view+json": {
       "model_id": "4ee9ddfe39d248f8891bf4d7f5cee4d4",
       "version_major": 2,
       "version_minor": 0
      },
      "text/plain": [
       "interactive(children=(FloatSlider(value=1.0, description='v', max=2.0), FloatSlider(value=0.0, description='om…"
      ]
     },
     "metadata": {},
     "output_type": "display_data"
    }
   ],
   "source": [
    "%matplotlib inline\n",
    "from demos import motion_model_demo1\n",
    "motion_model_demo1();"
   ]
  },
  {
   "cell_type": "markdown",
   "metadata": {},
   "source": [
    "## Odometry motion model\n",
    "\n",
    "The following demo shows the odometry motion model for a wheeled robot with its posed represented by $(x, y, \\theta)$, where $\\theta$ is the heading (measured anti-clockwise from the x-axis).  "
   ]
  },
  {
   "cell_type": "code",
   "execution_count": 2,
   "metadata": {},
   "outputs": [
    {
     "data": {
      "application/vnd.jupyter.widget-view+json": {
       "model_id": "e18f7dd8dbd24c4586ca426586111e69",
       "version_major": 2,
       "version_minor": 0
      },
      "text/plain": [
       "interactive(children=(FloatSlider(value=1.0, description='d', max=2.0), IntSlider(value=0, description='phi1',…"
      ]
     },
     "metadata": {},
     "output_type": "display_data"
    }
   ],
   "source": [
    "from demos import odom_motion_model_demo1\n",
    "odom_motion_model_demo1();"
   ]
  },
  {
   "cell_type": "code",
   "execution_count": 3,
   "metadata": {},
   "outputs": [
    {
     "data": {
      "application/vnd.jupyter.widget-view+json": {
       "model_id": "5d97f7b2b9044c01ae1cb069079b6e3b",
       "version_major": 2,
       "version_minor": 0
      },
      "text/plain": [
       "interactive(children=(FloatSlider(value=1.0, description='v', max=2.0), FloatSlider(value=0.0, description='om…"
      ]
     },
     "metadata": {},
     "output_type": "display_data"
    }
   ],
   "source": [
    "from demos import particles_motion_model_demo1\n",
    "particles_motion_model_demo1();"
   ]
  }
 ],
 "metadata": {
  "kernelspec": {
   "display_name": "Python 3",
   "language": "python",
   "name": "python3"
  },
  "language_info": {
   "codemirror_mode": {
    "name": "ipython",
    "version": 3
   },
   "file_extension": ".py",
   "mimetype": "text/x-python",
   "name": "python",
   "nbconvert_exporter": "python",
   "pygments_lexer": "ipython3",
   "version": "3.5.2"
  }
 },
 "nbformat": 4,
 "nbformat_minor": 2
}
