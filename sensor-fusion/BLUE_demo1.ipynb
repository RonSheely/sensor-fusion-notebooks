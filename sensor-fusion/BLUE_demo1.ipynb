{
 "cells": [
  {
   "cell_type": "markdown",
   "metadata": {},
   "source": [
    "# Best linear unbiased estimation (BLUE)\n",
    "\n",
    "## Weighted sum\n",
    "\n",
    "In the following\n",
    "\n",
    "$$\\hat{X} = w_1 \\hat{X}_1 + w_2 \\hat{X}_2,$$\n",
    "\n",
    "where $\\hat{X}_1$ is the estimator for sensor 1, $\\hat{X}_2$ is the estimator for sensor 2, and $\\hat{X}$ is the fused estimator.  The estimators are assumed to be unbiased and so $E\\{\\hat{X}_1\\} = E\\{\\hat{X}_2\\} = x$.  In this case $x=2$.\n",
    "\n",
    "Unless $w_2 = 1 - w_1$ the estimator will be biased (it has a different mean to $\\hat{X}_1$ and $\\hat{X}_2$).  Notice, how the peak of the result is in the wrong place if the weights do not sum to 1."
   ]
  },
  {
   "cell_type": "code",
   "execution_count": 5,
   "metadata": {},
   "outputs": [
    {
     "data": {
      "application/vnd.jupyter.widget-view+json": {
       "model_id": "5e538b6c9ab8448f995e5d3cf085518e",
       "version_major": 2,
       "version_minor": 0
      },
      "text/plain": [
       "interactive(children=(FloatSlider(value=0.5, description='w1', max=1.0), FloatSlider(value=0.5, description='w…"
      ]
     },
     "metadata": {},
     "output_type": "display_data"
    }
   ],
   "source": [
    "%matplotlib inline\n",
    "from demos import BLUE_demo1\n",
    "BLUE_demo1();"
   ]
  },
  {
   "cell_type": "markdown",
   "metadata": {},
   "source": [
    "## Unbiased weighted estimator\n",
    "\n",
    "In the following\n",
    "\n",
    "$$\\hat{X} = w_1 \\hat{X}_1 + (1 - w_1) \\hat{X}_2.$$\n",
    "\n",
    "There is an optimal value of $w_1$ that minimises the variance of the result.  See if you can find it."
   ]
  },
  {
   "cell_type": "code",
   "execution_count": 6,
   "metadata": {},
   "outputs": [
    {
     "data": {
      "application/vnd.jupyter.widget-view+json": {
       "model_id": "5ffd93ed992a483a9b3656b0444f7d2f",
       "version_major": 2,
       "version_minor": 0
      },
      "text/plain": [
       "interactive(children=(IntSlider(value=2, description='muX1', max=6, min=-2), IntSlider(value=2, description='m…"
      ]
     },
     "metadata": {},
     "output_type": "display_data"
    }
   ],
   "source": [
    "from demos import BLUE_demo3\n",
    "BLUE_demo3();"
   ]
  },
  {
   "cell_type": "code",
   "execution_count": 7,
   "metadata": {},
   "outputs": [
    {
     "data": {
      "application/vnd.jupyter.widget-view+json": {
       "model_id": "ca27a91f7563495cb880fc7cf1f9c9ed",
       "version_major": 2,
       "version_minor": 0
      },
      "text/plain": [
       "interactive(children=(IntSlider(value=2, description='muX1', max=6, min=-2), IntSlider(value=2, description='m…"
      ]
     },
     "metadata": {},
     "output_type": "display_data"
    }
   ],
   "source": [
    "from demos import BLUE_demo4\n",
    "BLUE_demo4();"
   ]
  },
  {
   "cell_type": "markdown",
   "metadata": {},
   "source": [
    "## Variance of weighted sum\n",
    "\n",
    "The variance of an unbiased weighted sum is\n",
    "\n",
    "$$\\sigma_\\hat{X}^2 = w_1^2 \\sigma_{\\hat{X}_1}^2 + (1 - w_1)^2\\sigma_{\\hat{X}_2}^2.$$\n"
   ]
  },
  {
   "cell_type": "code",
   "execution_count": 8,
   "metadata": {},
   "outputs": [
    {
     "data": {
      "application/vnd.jupyter.widget-view+json": {
       "model_id": "270b145b7c25452e9c3eb4492acd0082",
       "version_major": 2,
       "version_minor": 0
      },
      "text/plain": [
       "interactive(children=(FloatSlider(value=1.0, description='sigmaX1', max=4.0, min=0.1), FloatSlider(value=2.0, …"
      ]
     },
     "metadata": {},
     "output_type": "display_data"
    }
   ],
   "source": [
    "from demos import BLUE_demo5\n",
    "BLUE_demo5();"
   ]
  },
  {
   "cell_type": "markdown",
   "metadata": {},
   "source": [
    "## BLU estimator\n",
    "\n",
    "The BLU estimator calculates the optimal weight using\n",
    "\n",
    "$$ w_1 = \\frac{\\frac{1}{\\sigma_{\\hat{X}_1}^2}}{\\frac{1}{\\sigma_{\\hat{X}_1}^2} + \\frac{1}{\\sigma_{\\hat{X}_2}^2}}.$$\n",
    "\n",
    "The resulting variance is\n",
    "\n",
    "$$\\sigma_\\hat{X}^2 = \\frac{1}{\\frac{1}{\\sigma_{\\hat{X}_1}^2} + \\frac{1}{\\sigma_{\\hat{X}_2}^2}}.$$\n"
   ]
  }
 ],
 "metadata": {
  "kernelspec": {
   "display_name": "Python 3 (ipykernel)",
   "language": "python",
   "name": "python3"
  },
  "language_info": {
   "codemirror_mode": {
    "name": "ipython",
    "version": 3
   },
   "file_extension": ".py",
   "mimetype": "text/x-python",
   "name": "python",
   "nbconvert_exporter": "python",
   "pygments_lexer": "ipython3",
   "version": "3.7.11"
  }
 },
 "nbformat": 4,
 "nbformat_minor": 2
}
