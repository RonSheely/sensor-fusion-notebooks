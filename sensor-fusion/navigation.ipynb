{
 "cells": [
  {
   "cell_type": "markdown",
   "metadata": {},
   "source": [
    "# Navigation\n",
    "\n",
    "## Dynamic window approach (DWA)\n",
    "\n",
    "DWA is a navigation algorithm that works in the control space of the robot.\n",
    "\n",
    "The following demo use the velocity motion model for a differential-drive robot with its pose represented by $(x, y, \\theta)$, where $\\theta$ is the heading (measured anti-clockwise from the x-axis).  The controls are linear speed, $v$, (m/s) and angular speed, $\\omega$, (deg/s) and the time-step, $\\Delta t$, is 1 s. "
   ]
  },
  {
   "cell_type": "code",
   "execution_count": 1,
   "metadata": {},
   "outputs": [
    {
     "data": {
      "application/vnd.jupyter.widget-view+json": {
       "model_id": "61b1adfa3b9e4a2ea9a60296a51813f5",
       "version_major": 2,
       "version_minor": 0
      },
      "text/plain": [
       "interactive(children=(FloatSlider(value=1.0, description='dt', max=1.0, min=0.1), IntSlider(value=4, descripti…"
      ]
     },
     "metadata": {},
     "output_type": "display_data"
    }
   ],
   "source": [
    "%matplotlib inline\n",
    "from demos import dwa_demo1\n",
    "dwa_demo1();"
   ]
  }
 ],
 "metadata": {
  "kernelspec": {
   "display_name": "Python 3",
   "language": "python",
   "name": "python3"
  },
  "language_info": {
   "codemirror_mode": {
    "name": "ipython",
    "version": 3
   },
   "file_extension": ".py",
   "mimetype": "text/x-python",
   "name": "python",
   "nbconvert_exporter": "python",
   "pygments_lexer": "ipython3",
   "version": "3.5.2"
  }
 },
 "nbformat": 4,
 "nbformat_minor": 2
}
