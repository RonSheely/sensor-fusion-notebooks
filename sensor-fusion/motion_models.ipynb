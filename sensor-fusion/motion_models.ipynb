{
 "cells": [
  {
   "cell_type": "markdown",
   "metadata": {},
   "source": [
    "# Wheeled robot motion models\n",
    "\n",
    "## Velocity motion model\n",
    "\n",
    "The following demo shows the velocity motion model for a differential-drive robot with its pose represented by $(x, y, \\theta)$, where $\\theta$ is the heading (measured anti-clockwise from the x-axis).  The controls are linear speed, $v$, (m/s) and angular speed, $\\omega$, (deg/s) and the time-step, $\\Delta t$, is 1 s. "
   ]
  },
  {
   "cell_type": "code",
   "execution_count": 1,
   "metadata": {},
   "outputs": [
    {
     "data": {
      "application/vnd.jupyter.widget-view+json": {
       "model_id": "c64be5b7cc4d4c958a43a7a4831e1472",
       "version_major": 2,
       "version_minor": 0
      },
      "text/plain": [
       "interactive(children=(FloatSlider(value=3.0, description='x0', max=4.0, min=-4.0, step=0.5), FloatSlider(value…"
      ]
     },
     "metadata": {},
     "output_type": "display_data"
    }
   ],
   "source": [
    "import matplotlib\n",
    "%matplotlib inline\n",
    "from demos import velocity_motion_model_demo1\n",
    "velocity_motion_model_demo1();"
   ]
  },
  {
   "cell_type": "markdown",
   "metadata": {},
   "source": [
    "## Odometry motion model\n",
    "\n",
    "The odometry motion model converts changes in the local pose of a robot into changes in the global pose of a robot.\n",
    "\n",
    "### Odometry motion model (local pose)\n",
    "\n",
    "The following demo shows the relationship between global pose and local pose.  The local pose is the pose of the robot with respect to its initial pose.  The global pose of the robot is with respect to the map frame.\n",
    "\n",
    "The initial global pose is represented by $(x_0, y_0, \\theta_0)$, where $\\theta_0$ is the heading (measured anti-clockwise from the x-axis).  \n"
   ]
  },
  {
   "cell_type": "code",
   "execution_count": 2,
   "metadata": {},
   "outputs": [
    {
     "data": {
      "application/vnd.jupyter.widget-view+json": {
       "model_id": "c64c3ba44e46470086579c5162feb3e7",
       "version_major": 2,
       "version_minor": 0
      },
      "text/plain": [
       "interactive(children=(FloatSlider(value=3.0, description='x0', max=4.0, min=-4.0, step=0.5), FloatSlider(value…"
      ]
     },
     "metadata": {},
     "output_type": "display_data"
    }
   ],
   "source": [
    "from demos import velocity_motion_model_demo2\n",
    "velocity_motion_model_demo2();"
   ]
  },
  {
   "cell_type": "markdown",
   "metadata": {},
   "source": [
    "### Odometry motion model (parameterisation)\n",
    "\n",
    "The initial global pose is $(x_0, y_0, \\theta_0)$. \n",
    "\n",
    "The linear speed, $v$, is in m/s; the angular speed, $\\omega$, is in deg/s.  The time-step, $\\Delta t$, is 1 s.\n",
    "\n",
    "The pose change is parameterised by $(d, \\phi_1, \\phi_2)$. "
   ]
  },
  {
   "cell_type": "code",
   "execution_count": 3,
   "metadata": {
    "scrolled": false
   },
   "outputs": [
    {
     "data": {
      "application/vnd.jupyter.widget-view+json": {
       "model_id": "a7beabf0e96548c0b5021f3fc7fa411f",
       "version_major": 2,
       "version_minor": 0
      },
      "text/plain": [
       "interactive(children=(FloatSlider(value=0.0, description='x0', max=2.0, min=-2.0), FloatSlider(value=0.0, desc…"
      ]
     },
     "metadata": {},
     "output_type": "display_data"
    }
   ],
   "source": [
    "from demos import motion_decompose_demo1\n",
    "motion_decompose_demo1();"
   ]
  },
  {
   "cell_type": "code",
   "execution_count": 4,
   "metadata": {
    "scrolled": false
   },
   "outputs": [
    {
     "data": {
      "application/vnd.jupyter.widget-view+json": {
       "model_id": "4771b49846d84965b850d9436a685963",
       "version_major": 2,
       "version_minor": 0
      },
      "text/plain": [
       "interactive(children=(FloatSlider(value=0.0, description='x0', max=2.0, min=-2.0), FloatSlider(value=0.0, desc…"
      ]
     },
     "metadata": {},
     "output_type": "display_data"
    }
   ],
   "source": [
    "from demos import motion_decompose_demo2\n",
    "motion_decompose_demo2();"
   ]
  },
  {
   "cell_type": "code",
   "execution_count": 5,
   "metadata": {
    "scrolled": false
   },
   "outputs": [
    {
     "data": {
      "application/vnd.jupyter.widget-view+json": {
       "model_id": "b04c05f3f8ee46a2be9af2d142db39fb",
       "version_major": 2,
       "version_minor": 0
      },
      "text/plain": [
       "interactive(children=(FloatSlider(value=3.0, description='x0', max=4.0, min=-4.0, step=0.5), FloatSlider(value…"
      ]
     },
     "metadata": {},
     "output_type": "display_data"
    }
   ],
   "source": [
    "from demos import odom_motion_model_demo2\n",
    "odom_motion_model_demo2();"
   ]
  }
 ],
 "metadata": {
  "kernelspec": {
   "display_name": "Python 3 (ipykernel)",
   "language": "python",
   "name": "python3"
  },
  "language_info": {
   "codemirror_mode": {
    "name": "ipython",
    "version": 3
   },
   "file_extension": ".py",
   "mimetype": "text/x-python",
   "name": "python",
   "nbconvert_exporter": "python",
   "pygments_lexer": "ipython3",
   "version": "3.7.11"
  }
 },
 "nbformat": 4,
 "nbformat_minor": 2
}
