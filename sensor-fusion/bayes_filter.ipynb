{
 "cells": [
  {
   "cell_type": "markdown",
   "metadata": {},
   "source": [
    "# Bayes filters\n"
   ]
  },
  {
   "cell_type": "markdown",
   "metadata": {},
   "source": [
    "## Constant noise variance\n",
    "\n",
    "The following demo uses an additive sensor model\n",
    "\n",
    "$$Z = X + V$$\n",
    "\n",
    "where $V$ is zero mean.  muX is the mean of the prior, sigmaX is the standard deviation of the prior, sigmaV is the standard deviation of the noise.\n",
    "\n",
    "The likelihood function for this model is\n",
    "\n",
    "$$f_{Z|X}(z|x) = f_V(z - x).$$\n"
   ]
  },
  {
   "cell_type": "code",
   "execution_count": 1,
   "metadata": {},
   "outputs": [
    {
     "data": {
      "application/vnd.jupyter.widget-view+json": {
       "model_id": "b2c741b599fe4e94bfd6d4b0fc75fc3c",
       "version_major": 2,
       "version_minor": 0
      },
      "text/plain": [
       "interactive(children=(FloatSlider(value=0.5, description='sigmaV', max=5.0, min=0.01, step=0.01), IntSlider(va…"
      ]
     },
     "metadata": {},
     "output_type": "display_data"
    }
   ],
   "source": [
    "%matplotlib inline\n",
    "from demos import likelihood_demo1\n",
    "likelihood_demo1();"
   ]
  },
  {
   "cell_type": "markdown",
   "metadata": {},
   "source": [
    "From the likelihood function we can determine the maximum likelihood estimate, $\\hat{x}$, from the mode of the likelihood function.  However, if we have a prior $f_X(x)$ for $X$, we can get a better estimate using Bayes' theorem:\n",
    "\n",
    "$$f_{X|Z}(x|z) = \\eta f_{Z|X}(z|x) f_X(x),$$\n",
    "\n",
    "where $\\eta$ is a normalising constant to ensure that the posterior distribution, $f_{X|Z}(x|z)$, has unit area. "
   ]
  },
  {
   "cell_type": "code",
   "execution_count": 2,
   "metadata": {},
   "outputs": [
    {
     "data": {
      "application/vnd.jupyter.widget-view+json": {
       "model_id": "d78ba07f6541477c9b7ff58a3fc7025b",
       "version_major": 2,
       "version_minor": 0
      },
      "text/plain": [
       "interactive(children=(IntSlider(value=0, description='muX', max=2, min=-2), FloatSlider(value=1.0, description…"
      ]
     },
     "metadata": {},
     "output_type": "display_data"
    }
   ],
   "source": [
    "from demos import bayes_demo1\n",
    "bayes_demo1();"
   ]
  },
  {
   "cell_type": "markdown",
   "metadata": {},
   "source": [
    "From the posterior distribution, we can get the maximum a posteriori (MAP) estimate from the mode.  Alternatively, we can get the minimum mean squared error (MMSE) estimate from the mean."
   ]
  },
  {
   "cell_type": "markdown",
   "metadata": {},
   "source": [
    "## Range varying noise variance\n",
    "\n",
    "Often the variance of the sensor noise is not constant.  For example, the variance of a distance sensor increases with range.   This can be modelled as,\n",
    "\n",
    "$$Z = X + q(X) \\mathcal{N}(0,1)$$\n",
    "\n",
    "where $\\mathcal{N}(0,1)$ is a Gaussian random variable with zero mean and unit variance.  The variance of $V$ is a function of $x$ and can be shown to be\n",
    "\n",
    "$$\\sigma^2_{V(x)} = q^2(x).$$\n",
    "\n",
    "In the following demo\n",
    "\n",
    "$$\\sigma^2_{V(x)} = a |x| + 0.1,$$\n",
    "\n",
    "where $a$ is a constant and so the likelihood function is\n",
    "\n",
    "$$f_{Z|X}(z|x) = f_{V(x)}(z - x).$$"
   ]
  },
  {
   "cell_type": "code",
   "execution_count": 3,
   "metadata": {},
   "outputs": [
    {
     "data": {
      "application/vnd.jupyter.widget-view+json": {
       "model_id": "4d336079704847bfa6df0ac09b7bd553",
       "version_major": 2,
       "version_minor": 0
      },
      "text/plain": [
       "interactive(children=(IntSlider(value=2, description='z', max=4, min=-4), FloatSlider(value=0.3, description='…"
      ]
     },
     "metadata": {},
     "output_type": "display_data"
    }
   ],
   "source": [
    "from demos import likelihood_demo2\n",
    "likelihood_demo2();"
   ]
  },
  {
   "cell_type": "code",
   "execution_count": 4,
   "metadata": {},
   "outputs": [
    {
     "data": {
      "application/vnd.jupyter.widget-view+json": {
       "model_id": "26543378c3e040ddb49d0f7fd4168511",
       "version_major": 2,
       "version_minor": 0
      },
      "text/plain": [
       "interactive(children=(FloatSlider(value=1.0, description='muX', max=4.0, step=0.2), FloatSlider(value=1.0, des…"
      ]
     },
     "metadata": {},
     "output_type": "display_data"
    }
   ],
   "source": [
    "from demos import bayes_demo2\n",
    "bayes_demo2();"
   ]
  }
 ],
 "metadata": {
  "kernelspec": {
   "display_name": "Python 3",
   "language": "python",
   "name": "python3"
  },
  "language_info": {
   "codemirror_mode": {
    "name": "ipython",
    "version": 3
   },
   "file_extension": ".py",
   "mimetype": "text/x-python",
   "name": "python",
   "nbconvert_exporter": "python",
   "pygments_lexer": "ipython3",
   "version": "3.5.2"
  }
 },
 "nbformat": 4,
 "nbformat_minor": 2
}
