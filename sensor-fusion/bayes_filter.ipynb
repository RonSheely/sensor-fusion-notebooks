{
 "cells": [
  {
   "cell_type": "markdown",
   "metadata": {},
   "source": [
    "# Bayes filters\n",
    "\n",
    "From the [likelihood function](likelihoods.ipynb) we can determine the maximum likelihood estimate, $\\hat{x}$, from the mode of the likelihood function or the expected likelihood from the mean of the likelihood function.  However, if we have a prior $f_X(x)$ for $X$, we can get a better estimate using Bayes' theorem:\n",
    "\n",
    "$$f_{X|Z}(x|z) = \\eta l_{X|Z}(x|z) f_X(x),$$\n",
    "\n",
    "where $\\eta$ is a normalising constant to ensure that the posterior distribution, $f_{X|Z}(x|z)$, has unit area. "
   ]
  },
  {
   "cell_type": "markdown",
   "metadata": {},
   "source": [
    "## Constant noise variance\n",
    "\n",
    "The following demo uses an additive sensor model\n",
    "\n",
    "$$Z = X + V$$\n",
    "\n",
    "where $V$ is zero mean.  muX is the mean of the prior, sigmaX is the standard deviation of the prior, sigmaV is the standard deviation of the noise.\n",
    "\n",
    "The likelihood function for this model is\n",
    "\n",
    "$$l_{X|Z}(x|z) = f_{Z|X}(z|x) = f_V(z - x).$$\n"
   ]
  },
  {
   "cell_type": "code",
   "execution_count": 1,
   "metadata": {},
   "outputs": [
    {
     "data": {
      "application/vnd.jupyter.widget-view+json": {
       "model_id": "1c68d84dcc6f4cff9916ffb173aaf941",
       "version_major": 2,
       "version_minor": 0
      },
      "text/plain": [
       "interactive(children=(IntSlider(value=0, description='muX', max=2, min=-2), FloatSlider(value=1.0, description…"
      ]
     },
     "metadata": {},
     "output_type": "display_data"
    }
   ],
   "source": [
    "from demos import bayes_demo1\n",
    "bayes_demo1();"
   ]
  },
  {
   "cell_type": "markdown",
   "metadata": {},
   "source": [
    "From the posterior distribution, we can get the maximum a posteriori (MAP) estimate from the mode.  Alternatively, we can get the minimum mean squared error (MMSE) estimate from the mean."
   ]
  },
  {
   "cell_type": "markdown",
   "metadata": {},
   "source": [
    "## Range varying noise variance\n",
    "\n",
    "Often the variance of the sensor noise is not constant.  For example, the variance of a distance sensor increases with range.   This can be modelled as,\n",
    "\n",
    "$$Z = X + V(X).$$\n",
    "\n",
    "Assuming zero-mean Gaussian noise where the variance varies with the absolute value of the expected value of $X$, then\n",
    "\n",
    "$$\\sigma^2_{V(X)} = \\left|E\\{X\\}\\right|.$$\n",
    "\n",
    "In practice, the noise variance will not be zero at $x=0$, so a better model will be of the form\n",
    "\n",
    "$$\\sigma^2_{V(X)} = a \\left|E\\{X\\}\\right| + b,$$\n",
    "\n",
    "where $a$ and $b$ are constants.  Since the noise is additive, the likelihood function is\n",
    "\n",
    "$$l_{X|Z}(x|z) = f_{V(X)}(z - x).$$"
   ]
  },
  {
   "cell_type": "code",
   "execution_count": 2,
   "metadata": {},
   "outputs": [
    {
     "data": {
      "application/vnd.jupyter.widget-view+json": {
       "model_id": "2bc35b8177ec4ae89fad1381967e003f",
       "version_major": 2,
       "version_minor": 0
      },
      "text/plain": [
       "interactive(children=(FloatSlider(value=1.0, description='muX', max=4.0, step=0.2), FloatSlider(value=1.0, des…"
      ]
     },
     "metadata": {},
     "output_type": "display_data"
    }
   ],
   "source": [
    "from demos import bayes_demo2\n",
    "bayes_demo2();"
   ]
  },
  {
   "cell_type": "markdown",
   "metadata": {},
   "source": [
    "## Ambiguous sensor\n",
    "\n",
    "The following demo shows a sensor with an ambiguous output.  The sensor model is\n",
    "\n",
    "$$Z = h(X) + V,$$\n",
    "\n",
    "where\n",
    "\n",
    "$$h(x) = \\left\\{ \\begin{array}{ll} ax & x \\le d \\\\ a\\frac{d^2}{x} & x > d \\end{array}\\right..$$\n",
    "\n",
    "The likelihood function is\n",
    "\n",
    "$$l_{X|Z}(x|z) = f_V(z - h(x)).$$\n"
   ]
  },
  {
   "cell_type": "code",
   "execution_count": 3,
   "metadata": {},
   "outputs": [
    {
     "data": {
      "application/vnd.jupyter.widget-view+json": {
       "model_id": "583a81fe11b242a2a5d3f92fee6d35d4",
       "version_major": 2,
       "version_minor": 0
      },
      "text/plain": [
       "interactive(children=(FloatSlider(value=2.0, description='muX', max=4.0, step=0.2), FloatSlider(value=0.5, des…"
      ]
     },
     "metadata": {},
     "output_type": "display_data"
    }
   ],
   "source": [
    "from demos import bayes_demo3\n",
    "bayes_demo3();"
   ]
  },
  {
   "cell_type": "markdown",
   "metadata": {},
   "source": [
    "Note how the prior can be used to resolve the ambiguity."
   ]
  }
 ],
 "metadata": {
  "kernelspec": {
   "display_name": "Python 3",
   "language": "python",
   "name": "python3"
  },
  "language_info": {
   "codemirror_mode": {
    "name": "ipython",
    "version": 3
   },
   "file_extension": ".py",
   "mimetype": "text/x-python",
   "name": "python",
   "nbconvert_exporter": "python",
   "pygments_lexer": "ipython3",
   "version": "3.5.2"
  }
 },
 "nbformat": 4,
 "nbformat_minor": 2
}
