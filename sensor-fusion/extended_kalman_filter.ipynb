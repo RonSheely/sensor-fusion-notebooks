{
 "cells": [
  {
   "cell_type": "markdown",
   "metadata": {},
   "source": [
    "# Extended Kalman filter\n",
    "\n",
    "Extended Kalman filters linearise the motion and/or sensor model and thus approximate the posterior belief as a Gaussian.\n",
    "\n"
   ]
  },
  {
   "cell_type": "markdown",
   "metadata": {},
   "source": [
    "## Linear transformation of random variable\n",
    "\n",
    "$$Z = A X + B$$"
   ]
  },
  {
   "cell_type": "code",
   "execution_count": 1,
   "metadata": {},
   "outputs": [
    {
     "data": {
      "application/vnd.jupyter.widget-view+json": {
       "model_id": "5154dd69bcdd4727b5f3aca511142765",
       "version_major": 2,
       "version_minor": 0
      },
      "text/plain": [
       "interactive(children=(IntSlider(value=0, description='muX', max=2, min=-2), FloatSlider(value=1.0, description…"
      ]
     },
     "metadata": {},
     "output_type": "display_data"
    }
   ],
   "source": [
    "%matplotlib inline\n",
    "from demos import linear_transformation_demo1\n",
    "linear_transformation_demo1();"
   ]
  },
  {
   "cell_type": "markdown",
   "metadata": {},
   "source": [
    "## Non-linear transformation of random variable\n",
    "\n",
    "Unlike a linear transformation, a non-linear transformation of a random variable does not preserve the shape of its PDF.  Thus the non-linear transform of a Gaussian random variable is no longer Gaussian.\n",
    "\n",
    "Examples of non-linear transformations are $Z = X^2$, $Z=X^3$, and $Z=\\cos(X)$.\n",
    "\n",
    "Determining the PDF of $Z = h(X)$ given the PDF of $X$ is difficult.  In the following, a Monte-Carlo approach is used."
   ]
  },
  {
   "cell_type": "code",
   "execution_count": 2,
   "metadata": {},
   "outputs": [
    {
     "data": {
      "application/vnd.jupyter.widget-view+json": {
       "model_id": "4a0e5f2d0c7d44b8921e1e8d3b90e8fe",
       "version_major": 2,
       "version_minor": 0
      },
      "text/plain": [
       "interactive(children=(IntSlider(value=0, description='muX', max=2, min=-2), FloatSlider(value=1.0, description…"
      ]
     },
     "metadata": {},
     "output_type": "display_data"
    }
   ],
   "source": [
    "%matplotlib inline\n",
    "from demos import nonlinear_transformation_demo1\n",
    "nonlinear_transformation_demo1();"
   ]
  },
  {
   "cell_type": "markdown",
   "metadata": {},
   "source": [
    "## Non-linear motion model\n",
    "\n",
    "An example of a non-linear motion model is the x-position of a pendum bob.  For a pendulum of length $l$ and a small initial angle $\\theta_0$, the x-position is given by\n",
    "\n",
    "$$x(t) = l \\sin\\left(\\theta_0 \\cos\\left(\\frac{g}{l}\\right)t\\right).$$\n",
    "\n",
    "With $t = n \\Delta t$, the deterministic motion model is\n",
    "\n",
    "$$x[n+1] = x[n] \\cos(f_0 \\Delta t) + \\sqrt{l^2 - (x[n])^2}\\sin(f_0 \\Delta t),$$\n",
    "\n",
    "where $f_0 = 1 / T_0$ and $T_0 = 2\\pi \\sqrt{l/g}$.  "
   ]
  },
  {
   "cell_type": "code",
   "execution_count": 3,
   "metadata": {},
   "outputs": [
    {
     "data": {
      "application/vnd.jupyter.widget-view+json": {
       "model_id": "e8eb685ab44b4cf5ba8c404c07f89135",
       "version_major": 2,
       "version_minor": 0
      },
      "text/plain": [
       "interactive(children=(FloatSlider(value=1.0, description='l', max=2.0, min=0.1), Output()), _dom_classes=('wid…"
      ]
     },
     "metadata": {},
     "output_type": "display_data"
    }
   ],
   "source": [
    "%matplotlib inline\n",
    "from demos import ekf_demo1\n",
    "ekf_demo1();"
   ]
  }
 ],
 "metadata": {
  "kernelspec": {
   "display_name": "Python 3",
   "language": "python",
   "name": "python3"
  },
  "language_info": {
   "codemirror_mode": {
    "name": "ipython",
    "version": 3
   },
   "file_extension": ".py",
   "mimetype": "text/x-python",
   "name": "python",
   "nbconvert_exporter": "python",
   "pygments_lexer": "ipython3",
   "version": "3.5.2"
  }
 },
 "nbformat": 4,
 "nbformat_minor": 2
}
