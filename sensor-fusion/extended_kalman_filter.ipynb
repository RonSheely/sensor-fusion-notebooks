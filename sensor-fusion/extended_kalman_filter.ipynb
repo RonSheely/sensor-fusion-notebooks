{
 "cells": [
  {
   "cell_type": "markdown",
   "metadata": {},
   "source": [
    "# Extended Kalman filter\n",
    "\n",
    "Extended Kalman filters linearise the motion and/or sensor model and thus approximate the posterior belief as a Gaussian.\n",
    "\n"
   ]
  },
  {
   "cell_type": "markdown",
   "metadata": {},
   "source": [
    "## Affine transformation of random variable\n",
    "\n",
    "$$Z = c X + d$$"
   ]
  },
  {
   "cell_type": "code",
   "execution_count": 1,
   "metadata": {},
   "outputs": [
    {
     "data": {
      "application/vnd.jupyter.widget-view+json": {
       "model_id": "0081a19030c14dddb3fef75b6704dff4",
       "version_major": 2,
       "version_minor": 0
      },
      "text/plain": [
       "interactive(children=(IntSlider(value=0, description='muX', max=2, min=-2), FloatSlider(value=1.0, description…"
      ]
     },
     "metadata": {},
     "output_type": "display_data"
    }
   ],
   "source": [
    "%matplotlib inline\n",
    "from demos import linear_transformation_demo1\n",
    "linear_transformation_demo1();"
   ]
  },
  {
   "cell_type": "markdown",
   "metadata": {},
   "source": [
    "## Non-linear transformation of random variable\n",
    "\n",
    "Unlike a linear transformation, a non-linear transformation of a random variable does not preserve the shape of its PDF.  Thus the non-linear transform of a Gaussian random variable is no longer Gaussian.\n",
    "\n",
    "Examples of non-linear transformations are $Z = X^2$, $Z=X^3$, and $Z=\\cos(X)$.\n",
    "\n",
    "Determining the PDF of $Z = h(X)$ given the PDF of $X$ is difficult.  In the following, a Monte-Carlo approach is used."
   ]
  },
  {
   "cell_type": "code",
   "execution_count": 2,
   "metadata": {
    "scrolled": false
   },
   "outputs": [
    {
     "data": {
      "application/vnd.jupyter.widget-view+json": {
       "model_id": "a7d9903705634c3f9e54996ef8cef140",
       "version_major": 2,
       "version_minor": 0
      },
      "text/plain": [
       "interactive(children=(IntSlider(value=0, description='muX', max=2, min=-2), FloatSlider(value=1.0, description…"
      ]
     },
     "metadata": {},
     "output_type": "display_data"
    }
   ],
   "source": [
    "%matplotlib inline\n",
    "from demos import nonlinear_transformation_demo1\n",
    "nonlinear_transformation_demo1();"
   ]
  },
  {
   "cell_type": "code",
   "execution_count": null,
   "metadata": {},
   "outputs": [],
   "source": []
  },
  {
   "cell_type": "markdown",
   "metadata": {},
   "source": [
    "## Linearisation\n",
    "\n",
    "A non-linear function can be linearised around a point $x_0$ by taking the first two terms of a Taylor series expansion:\n",
    "\n",
    "$$h(x) \\approx h'(x_0) (x - x_0) + h(x_0),$$\n",
    "\n",
    "where $h'(x) = \\frac{d h(x)}{d x}$."
   ]
  },
  {
   "cell_type": "code",
   "execution_count": 3,
   "metadata": {
    "scrolled": true
   },
   "outputs": [
    {
     "data": {
      "application/vnd.jupyter.widget-view+json": {
       "model_id": "6fbf897d29e14478b6abf1d3f8ba5d58",
       "version_major": 2,
       "version_minor": 0
      },
      "text/plain": [
       "interactive(children=(IntSlider(value=1, description='x0', max=10), Output()), _dom_classes=('widget-interact'…"
      ]
     },
     "metadata": {},
     "output_type": "display_data"
    }
   ],
   "source": [
    "from demos import linearise_demo1\n",
    "linearise_demo1();"
   ]
  },
  {
   "cell_type": "code",
   "execution_count": 4,
   "metadata": {
    "scrolled": false
   },
   "outputs": [
    {
     "data": {
      "application/vnd.jupyter.widget-view+json": {
       "model_id": "cd9fc6f6ccdf437db539b54421e15df8",
       "version_major": 2,
       "version_minor": 0
      },
      "text/plain": [
       "interactive(children=(IntSlider(value=1, description='x0', max=10), Output()), _dom_classes=('widget-interact'…"
      ]
     },
     "metadata": {},
     "output_type": "display_data"
    }
   ],
   "source": [
    "from demos import linearise_demo2\n",
    "linearise_demo2();"
   ]
  },
  {
   "cell_type": "markdown",
   "metadata": {},
   "source": [
    "## Non-linear motion model\n",
    "\n",
    "An example of a non-linear motion model is the x-position of a pendulum bob.  For a pendulum of length $l$ and a small initial angle $\\theta_0$, the x-position is given by\n",
    "\n",
    "$$x(t) = l \\sin\\left(\\theta_0 \\cos\\left(\\frac{g}{l}\\right)t\\right).$$\n",
    "\n",
    "With $t = n \\Delta t$, and additive process noise, $W_n$, the discrete-time stochastic motion model is\n",
    "\n",
    "$$X_n = X_{n-1} \\cos(f_0 \\Delta t) \\pm \\sqrt{l^2 - X_{n-1}^2}\\sin(f_0 \\Delta t) + W_n,$$\n",
    "\n",
    "where $f_0 = 1 / T_0$ and $T_0 = 2\\pi \\sqrt{l/g}$.  "
   ]
  },
  {
   "cell_type": "code",
   "execution_count": 5,
   "metadata": {
    "scrolled": false
   },
   "outputs": [
    {
     "data": {
      "application/vnd.jupyter.widget-view+json": {
       "model_id": "1e48cd469d874f59ba6f9b621f51b756",
       "version_major": 2,
       "version_minor": 0
      },
      "text/plain": [
       "interactive(children=(FloatSlider(value=1.0, description='l', max=2.0, min=0.1), Output()), _dom_classes=('wid…"
      ]
     },
     "metadata": {},
     "output_type": "display_data"
    }
   ],
   "source": [
    "%matplotlib inline\n",
    "from demos import ekf_demo1\n",
    "ekf_demo1();"
   ]
  },
  {
   "cell_type": "markdown",
   "metadata": {},
   "source": [
    "## Multiple hypotheses\n",
    "\n",
    "Multiple hypotheses are handled with a Kalmam filter using a weighted sum of Gaussians; in essence a multiple hypothesis Kalman filter is comprised of a number of Kalman filters operating in parallel.\n",
    "\n",
    "In the following demo two Gaussians are added together to model a more complicated belief.  The weights should sum to 1."
   ]
  },
  {
   "cell_type": "code",
   "execution_count": 6,
   "metadata": {},
   "outputs": [
    {
     "data": {
      "application/vnd.jupyter.widget-view+json": {
       "model_id": "56f5acb892f3493884099aa6667587b0",
       "version_major": 2,
       "version_minor": 0
      },
      "text/plain": [
       "interactive(children=(IntSlider(value=0, description='muX1', max=5, min=-5), FloatSlider(value=1.0, descriptio…"
      ]
     },
     "metadata": {},
     "output_type": "display_data"
    }
   ],
   "source": [
    "from demos import multiple_hypothesis_demo1\n",
    "multiple_hypothesis_demo1();"
   ]
  }
 ],
 "metadata": {
  "kernelspec": {
   "display_name": "Python 3 (ipykernel)",
   "language": "python",
   "name": "python3"
  },
  "language_info": {
   "codemirror_mode": {
    "name": "ipython",
    "version": 3
   },
   "file_extension": ".py",
   "mimetype": "text/x-python",
   "name": "python",
   "nbconvert_exporter": "python",
   "pygments_lexer": "ipython3",
   "version": "3.7.11"
  }
 },
 "nbformat": 4,
 "nbformat_minor": 2
}
