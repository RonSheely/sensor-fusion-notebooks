{
 "cells": [
  {
   "cell_type": "markdown",
   "metadata": {},
   "source": [
    "# Extended Kalman filter\n",
    "\n",
    "Extended Kalman filters linearise the motion and/or sensor model and thus approximate the posterior belief as a Gaussian.\n",
    "\n"
   ]
  },
  {
   "cell_type": "markdown",
   "metadata": {},
   "source": [
    "## Linear transformation of random variable\n",
    "\n",
    "$$Z = A X + B$$"
   ]
  },
  {
   "cell_type": "code",
   "execution_count": 1,
   "metadata": {},
   "outputs": [
    {
     "ename": "SyntaxError",
     "evalue": "import * only allowed at module level (nonlinear_transformation_demo1.py, line 21)",
     "output_type": "error",
     "traceback": [
      "Traceback \u001b[0;36m(most recent call last)\u001b[0m:\n",
      "  File \u001b[1;32m\"/usr/local/lib/python3.5/dist-packages/IPython/core/interactiveshell.py\"\u001b[0m, line \u001b[1;32m2963\u001b[0m, in \u001b[1;35mrun_code\u001b[0m\n    exec(code_obj, self.user_global_ns, self.user_ns)\n",
      "  File \u001b[1;32m\"<ipython-input-1-d665c4da3a09>\"\u001b[0m, line \u001b[1;32m2\u001b[0m, in \u001b[1;35m<module>\u001b[0m\n    from demos import linear_transformation_demo1\n",
      "\u001b[0;36m  File \u001b[0;32m\"/home/mph/text/16/lectures/enmt482/sensor-fusion-notebooks/sensor-fusion/demos/__init__.py\"\u001b[0;36m, line \u001b[0;32m10\u001b[0;36m, in \u001b[0;35m<module>\u001b[0;36m\u001b[0m\n\u001b[0;31m    from .nonlinear_transformation_demo1 import *\u001b[0m\n",
      "\u001b[0;36m  File \u001b[0;32m\"/home/mph/text/16/lectures/enmt482/sensor-fusion-notebooks/sensor-fusion/demos/nonlinear_transformation_demo1.py\"\u001b[0;36m, line \u001b[0;32m21\u001b[0m\n\u001b[0;31m    def nonlinear_transformation_demo1_plot(muX=0, sigmaX=1,\u001b[0m\n\u001b[0;31mSyntaxError\u001b[0m\u001b[0;31m:\u001b[0m import * only allowed at module level\n"
     ]
    }
   ],
   "source": [
    "%matplotlib inline\n",
    "from demos import linear_transformation_demo1\n",
    "linear_transformation_demo1();"
   ]
  },
  {
   "cell_type": "markdown",
   "metadata": {},
   "source": [
    "## Non-linear transformation of random variable\n",
    "\n",
    "Unlike a linear transformation, a non-linear transformation of a random variable does not preserve the shape of its PDF.  Thus the non-linear transform of a Gaussian random variable is no longer Gaussian.\n",
    "\n",
    "Examples of non-linear transformations are $Z = X^2$, $Z=X^3$, and $Z=\\cos(X)$.\n",
    "\n",
    "Determining the PDF of $Z = h(X)$ given the PDF of $X$ is difficult.  In the following, a Monte-Carlo approach is used."
   ]
  },
  {
   "cell_type": "code",
   "execution_count": null,
   "metadata": {},
   "outputs": [],
   "source": [
    "%matplotlib inline\n",
    "from demos import nonlinear_transformation_demo1\n",
    "nonlinear_transformation_demo1();"
   ]
  },
  {
   "cell_type": "markdown",
   "metadata": {},
   "source": [
    "## Non-linear motion model\n",
    "\n",
    "An example of a non-linear motion model is the x-position of a pendum bob.  For a pendulum of length $l$ and a small initial angle $\\theta_0$, the x-position is given by\n",
    "\n",
    "$$x(t) = l \\sin\\left(\\theta_0 \\cos\\left(\\frac{g}{l}\\right)t\\right).$$\n",
    "\n",
    "With $t = n \\Delta t$, the deterministic motion model is\n",
    "\n",
    "$$x[n+1] = x[n] \\cos(f_0 \\Delta t) \\pm \\sqrt{l^2 - (x[n])^2}\\sin(f_0 \\Delta t),$$\n",
    "\n",
    "where $f_0 = 1 / T_0$ and $T_0 = 2\\pi \\sqrt{l/g}$.  "
   ]
  },
  {
   "cell_type": "code",
   "execution_count": null,
   "metadata": {},
   "outputs": [],
   "source": [
    "%matplotlib inline\n",
    "from demos import ekf_demo1\n",
    "ekf_demo1();"
   ]
  }
 ],
 "metadata": {
  "kernelspec": {
   "display_name": "Python 3",
   "language": "python",
   "name": "python3"
  },
  "language_info": {
   "codemirror_mode": {
    "name": "ipython",
    "version": 3
   },
   "file_extension": ".py",
   "mimetype": "text/x-python",
   "name": "python",
   "nbconvert_exporter": "python",
   "pygments_lexer": "ipython3",
   "version": "3.5.2"
  }
 },
 "nbformat": 4,
 "nbformat_minor": 2
}
