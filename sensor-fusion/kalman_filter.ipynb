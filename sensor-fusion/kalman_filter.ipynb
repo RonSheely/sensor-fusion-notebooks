{
 "cells": [
  {
   "cell_type": "markdown",
   "metadata": {},
   "source": [
    "# Kalman filter\n",
    "\n",
    "The following demo demonstrates a Kalman filter.  It uses a constant speed motion model where\n",
    "\n",
    "$$X_n = X_{n-1} + v \\Delta t + W_n.$$\n",
    "\n",
    "The sensor model is\n",
    "\n",
    "$$Z_n = X_n + V_n.$$\n",
    "\n",
    "In the demo $\\Delta t = 1$, the speed is $v$, the initial belief is a Gaussian random variable with a standard deviation sigmaX0, the process noise is Gaussian with a standard deviation sigmaW, the sensor noise is Gaussian with a standard deviation sigmaV.  Finally, seed sets the pseudo-random seed."
   ]
  },
  {
   "cell_type": "code",
   "execution_count": 3,
   "metadata": {},
   "outputs": [
    {
     "data": {
      "application/vnd.jupyter.widget-view+json": {
       "model_id": "af687746dcaa4fa7bc9bc166f67bc580",
       "version_major": 2,
       "version_minor": 0
      },
      "text/plain": [
       "interactive(children=(Dropdown(description='show', index=2, options=('Estimates', 'PDFs', 'Estimates and PDFs'…"
      ]
     },
     "metadata": {},
     "output_type": "display_data"
    }
   ],
   "source": [
    "%matplotlib inline\n",
    "from demos import kf_demo2\n",
    "kf_demo2();"
   ]
  },
  {
   "cell_type": "markdown",
   "metadata": {},
   "source": [
    "The following demo is similar to the previous demo but this time the estimated error is plotted."
   ]
  },
  {
   "cell_type": "code",
   "execution_count": 4,
   "metadata": {},
   "outputs": [
    {
     "data": {
      "application/vnd.jupyter.widget-view+json": {
       "model_id": "4460982290b24d4cb9674f8d1511c8ad",
       "version_major": 2,
       "version_minor": 0
      },
      "text/plain": [
       "interactive(children=(Dropdown(description='show', index=2, options=('Estimates', 'PDFs', 'Estimates and PDFs'…"
      ]
     },
     "metadata": {},
     "output_type": "display_data"
    }
   ],
   "source": [
    "%matplotlib inline\n",
    "from demos import kf_demo3\n",
    "kf_demo3();"
   ]
  }
 ],
 "metadata": {
  "kernelspec": {
   "display_name": "Python 3 (ipykernel)",
   "language": "python",
   "name": "python3"
  },
  "language_info": {
   "codemirror_mode": {
    "name": "ipython",
    "version": 3
   },
   "file_extension": ".py",
   "mimetype": "text/x-python",
   "name": "python",
   "nbconvert_exporter": "python",
   "pygments_lexer": "ipython3",
   "version": "3.7.11"
  }
 },
 "nbformat": 4,
 "nbformat_minor": 2
}
