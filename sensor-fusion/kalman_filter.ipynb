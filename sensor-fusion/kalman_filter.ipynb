{
 "cells": [
  {
   "cell_type": "markdown",
   "metadata": {},
   "source": [
    "# Kalman filter\n",
    "\n",
    "The following demo demonstrates a Kalman filter.  It uses a constant speed motion model where\n",
    "\n",
    "$$X_n = X_{n-1} + v \\Delta t + W_n.$$\n",
    "\n",
    "The sensor model is\n",
    "\n",
    "$$Z_n = X_n + V_n.$$\n",
    "\n",
    "In the demo $\\Delta t = 1$, the speed is $v$, the initial belief is a Gaussian random variable with a standard deviation sigmaX0, the process noise is Gaussian with a standard deviation sigmaW, the sensor noise is Gaussian with a standard deviation sigmaV.  Finally, seed sets the pseudo-random seed."
   ]
  },
  {
   "cell_type": "code",
   "execution_count": 1,
   "metadata": {},
   "outputs": [
    {
     "data": {
      "application/vnd.jupyter.widget-view+json": {
       "model_id": "5c1188abd80f4b4c9b441990db7dc478",
       "version_major": 2,
       "version_minor": 0
      },
      "text/plain": [
       "interactive(children=(IntSlider(value=1, description='step', max=5, min=1), FloatSlider(value=2.0, description…"
      ]
     },
     "metadata": {},
     "output_type": "display_data"
    }
   ],
   "source": [
    "%matplotlib inline\n",
    "from demos import kf_demo1\n",
    "kf_demo1();"
   ]
  }
 ],
 "metadata": {
  "kernelspec": {
   "display_name": "Python 3",
   "language": "python",
   "name": "python3"
  },
  "language_info": {
   "codemirror_mode": {
    "name": "ipython",
    "version": 3
   },
   "file_extension": ".py",
   "mimetype": "text/x-python",
   "name": "python",
   "nbconvert_exporter": "python",
   "pygments_lexer": "ipython3",
   "version": "3.5.2"
  }
 },
 "nbformat": 4,
 "nbformat_minor": 2
}
