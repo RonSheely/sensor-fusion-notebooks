{
 "cells": [
  {
   "cell_type": "markdown",
   "metadata": {},
   "source": [
    "# Likelihood functions\n",
    "\n",
    "The following sensor models are of the form:\n",
    "\n",
    "$$Z = h(x) + V,$$\n",
    "\n",
    "where $Z$ is the measurement random variable, $x$ is a constant but unknown state, and $V$ is a random variable modelling additive sensor noise. "
   ]
  },
  {
   "cell_type": "markdown",
   "metadata": {},
   "source": [
    "## Linear sensor with additive noise of constant variance\n",
    "\n",
    "The following demo uses a linear sensor model with additive noise:\n",
    "\n",
    "$$Z = x + V,$$\n",
    "\n",
    "where $Z$ is a random variable for the sensor measurement, $x$ is the unknown state, and $V$ is a random variable describing the sensor noise.  The noise has zero mean and constant standard deviation, $\\sigma_V$, controlled by sigmaV. \n",
    "\n",
    "The likelihood function for this model is\n",
    "\n",
    "$$L(x|z) = f_V(z - x).$$"
   ]
  },
  {
   "cell_type": "code",
   "execution_count": 6,
   "metadata": {},
   "outputs": [],
   "source": [
    "%matplotlib inline"
   ]
  },
  {
   "cell_type": "code",
   "execution_count": 7,
   "metadata": {},
   "outputs": [
    {
     "data": {
      "application/vnd.jupyter.widget-view+json": {
       "model_id": "d8a3510c4a024c92abc8727bf6af48a9",
       "version_major": 2,
       "version_minor": 0
      },
      "text/plain": [
       "interactive(children=(FloatSlider(value=0.5, description='sigmaV', max=5.0, min=0.01, step=0.01), FloatSlider(…"
      ]
     },
     "metadata": {},
     "output_type": "display_data"
    }
   ],
   "source": [
    "from demos import likelihood_demo1\n",
    "likelihood_demo1();"
   ]
  },
  {
   "cell_type": "markdown",
   "metadata": {},
   "source": [
    "From the likelihood function we can determine the maximum likelihood estimate, $\\hat{x}$, from the mode of the likelihood function or the expected likelihood from the mean of the likelihood function.  Note that the shape of the likelihood function is the same as the noise PDF due to the linear sensor model."
   ]
  },
  {
   "cell_type": "markdown",
   "metadata": {},
   "source": [
    "## Non-linear sensor with additive  noise of constant variance\n",
    "\n",
    "\n",
    "$$Z = \\frac{1}{x} + V.$$\n",
    "\n",
    "\n",
    "The likelihood function for this model is\n",
    "\n",
    "$$L(x|z) = f_V(z - 1 / x).$$"
   ]
  },
  {
   "cell_type": "code",
   "execution_count": 8,
   "metadata": {},
   "outputs": [
    {
     "data": {
      "application/vnd.jupyter.widget-view+json": {
       "model_id": "f3e2411d88a741ccbfc64a54b0bb05d0",
       "version_major": 2,
       "version_minor": 0
      },
      "text/plain": [
       "interactive(children=(FloatSlider(value=0.5, description='sigmaV', max=5.0, min=0.01, step=0.01), FloatSlider(…"
      ]
     },
     "metadata": {},
     "output_type": "display_data"
    }
   ],
   "source": [
    "from demos import likelihood_demo4\n",
    "likelihood_demo4();"
   ]
  },
  {
   "cell_type": "markdown",
   "metadata": {},
   "source": [
    "Note, when the noise variance is small then the likelihood function has the same shape as the noise PDF; otherwise it is distorted."
   ]
  },
  {
   "cell_type": "markdown",
   "metadata": {},
   "source": [
    "## Linear sensor with range varying noise variance\n",
    "\n",
    "Often the variance of the sensor noise is not constant.  For example, the variance of a distance sensor increases with range.   This can be modelled as,\n",
    "\n",
    "$$Z = x + V(x).$$\n",
    "\n",
    "Assuming zero-mean Gaussian noise where the standard deviation varies with the absolute value of $x$, then\n",
    "\n",
    "$$\\sigma_{V(x)} = |x|.$$\n",
    "\n",
    "In practice, the noise variance will not be zero at $x=0$, so a better model will be of the form\n",
    "\n",
    "$$\\sigma_{V(x)} = a |x| + b,$$\n",
    "\n",
    "where $a$ and $b$ are constants.  Since the noise is additive, the likelihood function is\n",
    "\n",
    "$$L(x|z) = f_{V(X)}(z - x).$$"
   ]
  },
  {
   "cell_type": "code",
   "execution_count": 9,
   "metadata": {},
   "outputs": [
    {
     "data": {
      "application/vnd.jupyter.widget-view+json": {
       "model_id": "e34e83bd93fc4b1a9837f9c1a8fa1c58",
       "version_major": 2,
       "version_minor": 0
      },
      "text/plain": [
       "interactive(children=(FloatSlider(value=2.0, description='z', max=5.0, step=0.2), FloatSlider(value=0.3, descr…"
      ]
     },
     "metadata": {},
     "output_type": "display_data"
    }
   ],
   "source": [
    "from demos import likelihood_demo2\n",
    "likelihood_demo2();"
   ]
  },
  {
   "cell_type": "markdown",
   "metadata": {},
   "source": [
    "## Non-linear ambiguous sensor  with additive  noise of constant variance\n",
    "\n",
    "The following demo shows a sensor with an ambiguous output.  The sensor model is\n",
    "\n",
    "$$Z = h(X) + V,$$\n",
    "\n",
    "where\n",
    "\n",
    "$$h(x) = \\left\\{ \\begin{array}{ll} ax & x \\le d \\\\ a\\frac{d^2}{x} & x > d \\end{array}\\right..$$\n",
    "\n",
    "The likelihood function is\n",
    "\n",
    "$$L(x|z) = f_V(z - h(x)).$$\n"
   ]
  },
  {
   "cell_type": "code",
   "execution_count": 10,
   "metadata": {
    "scrolled": true
   },
   "outputs": [
    {
     "data": {
      "application/vnd.jupyter.widget-view+json": {
       "model_id": "ee40682665f2459f93d80e668b736210",
       "version_major": 2,
       "version_minor": 0
      },
      "text/plain": [
       "interactive(children=(FloatSlider(value=0.2, description='sigmaV', max=0.5, min=0.01, step=0.01), FloatSlider(…"
      ]
     },
     "metadata": {},
     "output_type": "display_data"
    }
   ],
   "source": [
    "from demos import likelihood_demo3\n",
    "likelihood_demo3();"
   ]
  },
  {
   "cell_type": "markdown",
   "metadata": {},
   "source": [
    "A confusing aspect of likelihood functions is that they look like a conditional PDF but are not.  Indeed, a likelihood function and a conditional PDF are two different views of a higher dimension function, say called $\\Lambda(x,y)$:\n",
    "\n",
    "$$L(x|z) = f_{Z|X}(z|x) = \\Lambda(x, z).$$"
   ]
  }
 ],
 "metadata": {
  "kernelspec": {
   "display_name": "Python 3",
   "language": "python",
   "name": "python3"
  },
  "language_info": {
   "codemirror_mode": {
    "name": "ipython",
    "version": 3
   },
   "file_extension": ".py",
   "mimetype": "text/x-python",
   "name": "python",
   "nbconvert_exporter": "python",
   "pygments_lexer": "ipython3",
   "version": "3.7.7"
  }
 },
 "nbformat": 4,
 "nbformat_minor": 2
}
