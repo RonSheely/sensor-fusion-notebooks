{
 "cells": [
  {
   "cell_type": "markdown",
   "metadata": {},
   "source": [
    "# Dead reckoning\n",
    "\n",
    "The following demo demonstrates dead reckoning using a constant speed motion model where\n",
    "\n",
    "$$X_n = X_{n-1} + v \\Delta t + W_n.$$\n",
    "\n",
    "In the demo $\\Delta t = 1$, the speed is $v$, the initial belief, $X_0$, is a zero-mean random variable, $\\mu_{X_0}=0$, and the process uncertainty at each timestep is a random variable, $W_n$, distributed with a constant standard deviation $\\sigma_{W}$."
   ]
  },
  {
   "cell_type": "code",
   "execution_count": 1,
   "metadata": {},
   "outputs": [
    {
     "data": {
      "application/vnd.jupyter.widget-view+json": {
       "model_id": "ec2182bfbef94dfb93557afecd175bd3",
       "version_major": 2,
       "version_minor": 0
      },
      "text/plain": [
       "interactive(children=(IntSlider(value=0, description='steps', max=5), FloatSlider(value=2.0, description='v', …"
      ]
     },
     "metadata": {},
     "output_type": "display_data"
    }
   ],
   "source": [
    "%matplotlib inline\n",
    "from demos import dead_reckoning_demo1\n",
    "dead_reckoning_demo1();\n"
   ]
  },
  {
   "cell_type": "markdown",
   "metadata": {},
   "source": [
    "In general, the belief of $X_n$ is found from\n",
    "\n",
    "$$f_{X_n}(x_n) = \\int_{-\\infty}^{\\infty} f_{X_n|X_{n-1}}(x_n|x_{n-1}) \\; f_{X_{n-1}}(x_{n-1}) \\, \\mathrm{d} x_{n-1},$$\n",
    "\n",
    "where $f_{X_{n-1}}(x_{n-1})$ is the belief from the previous time-step and for the constant speed motion model\n",
    "\n",
    "$$f_{X_n|X_{n-1}}(x_n|x_{n-1}) = f_{W_n}(x_n - x_{n-1} - v \\Delta t).$$"
   ]
  }
 ],
 "metadata": {
  "kernelspec": {
   "display_name": "Python 3",
   "language": "python",
   "name": "python3"
  },
  "language_info": {
   "codemirror_mode": {
    "name": "ipython",
    "version": 3
   },
   "file_extension": ".py",
   "mimetype": "text/x-python",
   "name": "python",
   "nbconvert_exporter": "python",
   "pygments_lexer": "ipython3",
   "version": "3.5.2"
  }
 },
 "nbformat": 4,
 "nbformat_minor": 2
}
