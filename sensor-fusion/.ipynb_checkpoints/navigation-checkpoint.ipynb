{
 "cells": [
  {
   "cell_type": "markdown",
   "metadata": {},
   "source": [
    "# Navigation\n",
    "\n",
    "## Dynamic window approach (DWA)\n",
    "\n",
    "DWA is a navigation algorithm that works in the control space of the robot.\n",
    "\n",
    "The following demo use the velocity motion model for a differential-drive robot with its pose represented by $(x, y, \\theta)$, where $\\theta$ is the heading (measured anti-clockwise from the x-axis).  The controls are linear speed, v, (m/s) and angular speed, omega, (degrees/s).  The maximum translational speed is v\\_max (m/s), the maximum rotational speed is w\\_max (degrees/s), the maximum translational acceleration is a\\_max (m/s/s), and the maximum rotational acceleration is alpha\\_max (degrees/s/s)."
   ]
  },
  {
   "cell_type": "code",
   "execution_count": 13,
   "metadata": {},
   "outputs": [
    {
     "data": {
      "application/vnd.jupyter.widget-view+json": {
       "model_id": "139fa7be62d44b49af671442c742f418",
       "version_major": 2,
       "version_minor": 0
      },
      "text/plain": [
       "interactive(children=(FloatSlider(value=0.5, description='dt', max=1.0, min=0.1), IntSlider(value=4, descripti…"
      ]
     },
     "metadata": {},
     "output_type": "display_data"
    }
   ],
   "source": [
    "import matplotlib\n",
    "%matplotlib inline\n",
    "from demos import dwa_demo1\n",
    "dwa_demo1();"
   ]
  },
  {
   "cell_type": "markdown",
   "metadata": {},
   "source": [
    "The following demo is similar to the previous except that dt = 0, v\\_max = 4, omega\\_max = 360, a\\_max = 2, and alpha\\_max = 180.  Cells in the objective function are shown in white if the distance to an obstacle is less than the braking distance.  The brighter the colour for the objective function, the better the speed choice.  The objective function prefers speeds that achieve the desired heading and speed.  It does not try to slow down when close to obstacles."
   ]
  },
  {
   "cell_type": "code",
   "execution_count": 14,
   "metadata": {},
   "outputs": [
    {
     "data": {
      "application/vnd.jupyter.widget-view+json": {
       "model_id": "2615969f50144bca91905af132ce1ce1",
       "version_major": 2,
       "version_minor": 0
      },
      "text/plain": [
       "interactive(children=(FloatSlider(value=0.0, description='x', max=4.0, min=-4.0, step=0.5), FloatSlider(value=…"
      ]
     },
     "metadata": {},
     "output_type": "display_data"
    }
   ],
   "source": [
    "from demos import dwa_demo2\n",
    "dwa_demo2();"
   ]
  }
 ],
 "metadata": {
  "kernelspec": {
   "display_name": "Python 3",
   "language": "python",
   "name": "python3"
  },
  "language_info": {
   "codemirror_mode": {
    "name": "ipython",
    "version": 3
   },
   "file_extension": ".py",
   "mimetype": "text/x-python",
   "name": "python",
   "nbconvert_exporter": "python",
   "pygments_lexer": "ipython3",
   "version": "3.5.2"
  }
 },
 "nbformat": 4,
 "nbformat_minor": 2
}
