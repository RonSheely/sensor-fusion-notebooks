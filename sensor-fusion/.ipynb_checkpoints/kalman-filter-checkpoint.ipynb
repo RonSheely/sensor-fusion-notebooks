{
 "cells": [
  {
   "cell_type": "markdown",
   "metadata": {},
   "source": [
    "# Kalman filter\n",
    "\n",
    "The following demo demonstrates dead reckoning using a constant speed motion model where\n",
    "\n",
    "$$X_n = X_{n-1} + v \\Delta t + W_n.$$\n",
    "\n",
    "In the demo $\\Delta t = 1$, the speed is $v$, the initial belief, $X_0$, is a zero-mean random variable, $\\mu_{X_0}=0$, and the process uncertainty at each timestep is a random variable, $W_n$, distributed with a constant standard deviation $\\sigma_{W}$."
   ]
  },
  {
   "cell_type": "code",
   "execution_count": 1,
   "metadata": {},
   "outputs": [
    {
     "data": {
      "application/vnd.jupyter.widget-view+json": {
       "model_id": "f8ef4fd4ac3840319a294048952ed639",
       "version_major": 2,
       "version_minor": 0
      },
      "text/plain": [
       "interactive(children=(IntSlider(value=0, description='steps', max=5), IntSlider(value=1, description='v', max=…"
      ]
     },
     "metadata": {},
     "output_type": "display_data"
    },
    {
     "data": {
      "image/png": "[encoded data removed]",
      "text/plain": [
       "<Figure size 720x360 with 1 Axes>"
      ]
     },
     "metadata": {},
     "output_type": "display_data"
    }
   ],
   "source": [
    "%matplotlib inline\n",
    "from demos import kf_demo1\n",
    "kf_demo1();\n"
   ]
  }
 ],
 "metadata": {
  "kernelspec": {
   "display_name": "Python 3",
   "language": "python",
   "name": "python3"
  },
  "language_info": {
   "codemirror_mode": {
    "name": "ipython",
    "version": 3
   },
   "file_extension": ".py",
   "mimetype": "text/x-python",
   "name": "python",
   "nbconvert_exporter": "python",
   "pygments_lexer": "ipython3",
   "version": "3.5.2"
  }
 },
 "nbformat": 4,
 "nbformat_minor": 2
}
