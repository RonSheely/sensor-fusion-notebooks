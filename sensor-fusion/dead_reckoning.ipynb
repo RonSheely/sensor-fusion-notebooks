{
 "cells": [
  {
   "cell_type": "markdown",
   "metadata": {},
   "source": [
    "# Dead reckoning\n",
    "\n",
    "The following demo demonstrates dead reckoning using a constant speed motion model where\n",
    "\n",
    "$$X_n = X_{n-1} + v \\Delta t + W_n.$$\n",
    "\n",
    "In the demo $\\Delta t = 1$, the speed is $v$, the initial belief for $X_0$ is a uniform distribution with $\\mu_{X_0}=0$, and the process uncertainty at each timestep is modelled by Gaussian random variables, $W_n$, distributed with a constant standard deviation $\\sigma_{W}$."
   ]
  },
  {
   "cell_type": "code",
   "execution_count": 1,
   "metadata": {},
   "outputs": [
    {
     "data": {
      "application/vnd.jupyter.widget-view+json": {
       "model_id": "893d682b463d4b34ad8ca2e5d480da00",
       "version_major": 2,
       "version_minor": 0
      },
      "text/plain": [
       "interactive(children=(IntSlider(value=1, description='steps', max=5, min=1), FloatSlider(value=2.0, descriptio…"
      ]
     },
     "metadata": {},
     "output_type": "display_data"
    }
   ],
   "source": [
    "%matplotlib inline\n",
    "from demos import dead_reckoning_demo1\n",
    "dead_reckoning_demo1();\n"
   ]
  }
 ],
 "metadata": {
  "kernelspec": {
   "display_name": "Python 3",
   "language": "python",
   "name": "python3"
  },
  "language_info": {
   "codemirror_mode": {
    "name": "ipython",
    "version": 3
   },
   "file_extension": ".py",
   "mimetype": "text/x-python",
   "name": "python",
   "nbconvert_exporter": "python",
   "pygments_lexer": "ipython3",
   "version": "3.5.2"
  }
 },
 "nbformat": 4,
 "nbformat_minor": 2
}
