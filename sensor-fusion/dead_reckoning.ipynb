{
 "cells": [
  {
   "cell_type": "markdown",
   "metadata": {},
   "source": [
    "# Dead reckoning\n",
    "\n",
    "The following demo demonstrates dead reckoning using a constant speed motion model where\n",
    "\n",
    "$$X_n = X_{n-1} + v \\Delta t + W_n.$$\n",
    "\n",
    "In the demo $\\Delta t = 1$, the speed is $v$, the initial belief, $\\breve{X}_0$, is a zero-mean random variable, $\\mu_{\\breve{X}_0}=0$, and the process uncertainty at each timestep is a random variable, $W_n$, distributed with a constant standard deviation $\\sigma_{W}$."
   ]
  },
  {
   "cell_type": "code",
   "execution_count": 2,
   "metadata": {},
   "outputs": [
    {
     "data": {
      "application/vnd.jupyter.widget-view+json": {
       "model_id": "6647d365238242c5ac90ad74e198784e",
       "version_major": 2,
       "version_minor": 0
      },
      "text/plain": [
       "interactive(children=(FloatSlider(value=2.0, description='v', max=5.0, step=0.25), Dropdown(description='X0', …"
      ]
     },
     "metadata": {},
     "output_type": "display_data"
    }
   ],
   "source": [
    "%matplotlib inline\n",
    "from demos import dead_reckoning_demo1\n",
    "dead_reckoning_demo1();\n"
   ]
  },
  {
   "cell_type": "markdown",
   "metadata": {},
   "source": [
    "In general, the belief of $X_n$ is found from\n",
    "\n",
    "$$f_{\\breve{X}_n}(x_n) = \\int_{-\\infty}^{\\infty} f_{\\breve{X}_n|\\breve{X}_{n-1}}(x_n|x_{n-1}) \\; f_{\\breve{X}_{n-1}}(x_{n-1}) \\, \\mathrm{d} x_{n-1},$$\n",
    "\n",
    "where $f_{\\breve{X}_{n-1}}(x_{n-1})$ is the belief from the previous time-step and for the constant speed motion model\n",
    "\n",
    "$$f_{\\breve{X}_n|\\breve{X}_{n-1}}(x_n|x_{n-1}) = f_{W_n}(x_n - x_{n-1} - v \\Delta t).$$"
   ]
  }
 ],
 "metadata": {
  "kernelspec": {
   "display_name": "Python 3",
   "language": "python",
   "name": "python3"
  },
  "language_info": {
   "codemirror_mode": {
    "name": "ipython",
    "version": 3
   },
   "file_extension": ".py",
   "mimetype": "text/x-python",
   "name": "python",
   "nbconvert_exporter": "python",
   "pygments_lexer": "ipython3",
   "version": "3.7.7"
  }
 },
 "nbformat": 4,
 "nbformat_minor": 2
}
