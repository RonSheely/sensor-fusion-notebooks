{
 "cells": [
  {
   "cell_type": "markdown",
   "metadata": {},
   "source": [
    "# Random variables"
   ]
  },
  {
   "cell_type": "markdown",
   "metadata": {},
   "source": [
    "## Gaussian random variables\n",
    "\n",
    "Gaussian random variables have a PDF parameterised by a mean, $\\mu_X$, and a standard-deviation, $\\sigma_X$,\n",
    "\n",
    "$$f_X(x) = \\frac{1}{\\sqrt{2\\pi \\sigma^2_X}} \\exp\\left(-0.5 \\frac{\\left(x - \\mu_X\\right)^2}{\\sigma^2_X} \\right).$$"
   ]
  },
  {
   "cell_type": "markdown",
   "metadata": {},
   "source": [
    "## Sum of two random variables\n",
    "\n",
    "Consider the sum of two random variables,\n",
    "\n",
    "$$ Z = X + Y.$$\n",
    "\n",
    "The result, $Z$, is also a random variable.   It has a PDF given by the convolution of the PDF of $X$ with the PDF of $Y$,\n",
    "\n",
    "$$f_Z(z) = \\int_{-\\infty}^{\\infty} f_X(z-y) f_Y(y) \\mathrm{d}y.$$\n"
   ]
  },
  {
   "cell_type": "code",
   "execution_count": 3,
   "metadata": {},
   "outputs": [
    {
     "data": {
      "application/vnd.jupyter.widget-view+json": {
       "model_id": "b5fa284095264254a4b22381d002e243",
       "version_major": 2,
       "version_minor": 0
      },
      "text/plain": [
       "interactive(children=(IntSlider(value=0, description='muX', max=5, min=-5), FloatSlider(value=1.0, description…"
      ]
     },
     "metadata": {},
     "output_type": "display_data"
    }
   ],
   "source": [
    "from demos import gauss_demo1\n",
    "gauss_demo1();\n"
   ]
  },
  {
   "cell_type": "markdown",
   "metadata": {},
   "source": [
    "## Sum of two Gaussian random variables\n",
    "\n",
    "The sum of two Gaussian random variables is also Gaussian distributed (the convolution of a Gaussian with another Gaussian produces another Gaussian).  The mean of $Z$ is the sum of the mean of $X$ and the mean of $Y$:\n",
    "\n",
    "$$\\mu_Z = \\mu_X + \\mu_Y,$$\n",
    "\n",
    "and the variance of $Z$ is the sum of the variance of $X$ and the variance of $Y$,\n",
    "\n",
    "$$\\sigma^2_Z = \\sigma^2_X + \\sigma^2_Y.$$"
   ]
  },
  {
   "cell_type": "code",
   "execution_count": 4,
   "metadata": {},
   "outputs": [
    {
     "data": {
      "application/vnd.jupyter.widget-view+json": {
       "model_id": "8dd38e8739454cd594f8a716a76a3197",
       "version_major": 2,
       "version_minor": 0
      },
      "text/plain": [
       "interactive(children=(IntSlider(value=0, description='muX', max=2, min=-2), IntSlider(value=1, description='si…"
      ]
     },
     "metadata": {},
     "output_type": "display_data"
    }
   ],
   "source": [
    "from demos import rv_sum_demo1\n",
    "rv_sum_demo1();"
   ]
  }
 ],
 "metadata": {
  "kernelspec": {
   "display_name": "Python 3",
   "language": "python",
   "name": "python3"
  },
  "language_info": {
   "codemirror_mode": {
    "name": "ipython",
    "version": 3
   },
   "file_extension": ".py",
   "mimetype": "text/x-python",
   "name": "python",
   "nbconvert_exporter": "python",
   "pygments_lexer": "ipython3",
   "version": "3.5.2"
  }
 },
 "nbformat": 4,
 "nbformat_minor": 2
}
