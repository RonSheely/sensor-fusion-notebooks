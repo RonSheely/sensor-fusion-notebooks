{
 "cells": [
  {
   "cell_type": "markdown",
   "metadata": {},
   "source": [
    "# Random variables"
   ]
  },
  {
   "cell_type": "markdown",
   "metadata": {},
   "source": [
    "Consider the sum of two random variables,\n",
    "\n",
    "$$ Z = X + Y.$$\n",
    "\n",
    "The result, $Z$, is also a random variable.   It has a PDF given by the convolution of the PDF of $X$ with the PDF of $Y$,\n",
    "\n",
    "$$f_Z(z) = \\int_{-\\infty}^{\\infty} f_X(z-y) f_Y(y) \\mathrm{d}y.$$\n"
   ]
  },
  {
   "cell_type": "markdown",
   "metadata": {},
   "source": [
    "If $X$ and $Y$ are both Gaussian distributed then so is $Z$.  The mean of $Z$ is the sum of the mean of $X$ and the mean of $Y$:\n",
    "\n",
    "$$\\mu_Z = \\mu_X + \\mu_Y,$$\n",
    "\n",
    "and the variance of $Z$ is the sum of the variance of $X$ and the variance of $Y$,\n",
    "\n",
    "$$\\sigma^2_Z = \\sigma^2_X + \\sigma^2_Y.$$"
   ]
  },
  {
   "cell_type": "code",
   "execution_count": 2,
   "metadata": {},
   "outputs": [
    {
     "data": {
      "application/vnd.jupyter.widget-view+json": {
       "model_id": "9a7c41ebc0f44facb5b802ef02d239a6",
       "version_major": 2,
       "version_minor": 0
      },
      "text/plain": [
       "interactive(children=(IntSlider(value=0, description='muX', max=2, min=-2), IntSlider(value=1, description='si…"
      ]
     },
     "metadata": {},
     "output_type": "display_data"
    }
   ],
   "source": [
    "from demos import rv_sum_demo1\n",
    "rv_sum_demo1();\n"
   ]
  }
 ],
 "metadata": {
  "kernelspec": {
   "display_name": "Python 3",
   "language": "python",
   "name": "python3"
  },
  "language_info": {
   "codemirror_mode": {
    "name": "ipython",
    "version": 3
   },
   "file_extension": ".py",
   "mimetype": "text/x-python",
   "name": "python",
   "nbconvert_exporter": "python",
   "pygments_lexer": "ipython3",
   "version": "3.5.2"
  }
 },
 "nbformat": 4,
 "nbformat_minor": 2
}
