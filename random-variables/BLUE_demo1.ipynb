{
 "cells": [
  {
   "cell_type": "markdown",
   "metadata": {},
   "source": [
    "# Best linear unbiased estimation\n",
    "\n",
    "## Weighted sum\n",
    "\n",
    "In the following\n",
    "\n",
    "$$X = w_1 X_1 + w_2 X_2.$$\n",
    "\n",
    "Unless $w_2 = 1 - w_1$ the estimate will be biased (it has a different mean to $X_1$ and $X_2$)."
   ]
  },
  {
   "cell_type": "code",
   "execution_count": 1,
   "metadata": {},
   "outputs": [
    {
     "data": {
      "application/vnd.jupyter.widget-view+json": {
       "model_id": "441996d2828142158fcd1239325da7da",
       "version_major": 2,
       "version_minor": 0
      },
      "text/plain": [
       "interactive(children=(FloatSlider(value=0.5, description='w1', max=1.0), FloatSlider(value=0.5, description='w…"
      ]
     },
     "metadata": {},
     "output_type": "display_data"
    }
   ],
   "source": [
    "%matplotlib inline\n",
    "from demos import BLUE_demo1\n",
    "BLUE_demo1();"
   ]
  },
  {
   "cell_type": "markdown",
   "metadata": {},
   "source": [
    "## Unbiased weighted estimator\n",
    "\n",
    "In the following\n",
    "\n",
    "$$X = w_1 X_1 + (1 - w_1) X_2.$$\n",
    "\n",
    "There is an optimal value of $w_1$ that minimises the variance of the result."
   ]
  },
  {
   "cell_type": "code",
   "execution_count": 2,
   "metadata": {},
   "outputs": [
    {
     "data": {
      "application/vnd.jupyter.widget-view+json": {
       "model_id": "240b0164da0f45adbbcab5dac07c7b15",
       "version_major": 2,
       "version_minor": 0
      },
      "text/plain": [
       "interactive(children=(FloatSlider(value=1.0, description='sigmaX1', max=4.0, min=0.1), FloatSlider(value=2.0, …"
      ]
     },
     "metadata": {},
     "output_type": "display_data"
    }
   ],
   "source": [
    "from demos import BLUE_demo3\n",
    "BLUE_demo3();"
   ]
  },
  {
   "cell_type": "code",
   "execution_count": 3,
   "metadata": {},
   "outputs": [
    {
     "data": {
      "application/vnd.jupyter.widget-view+json": {
       "model_id": "f320976db5de4018a9ccfb9cbc94a67e",
       "version_major": 2,
       "version_minor": 0
      },
      "text/plain": [
       "interactive(children=(FloatSlider(value=1.0, description='sigmaX1', max=4.0, min=0.1), FloatSlider(value=2.0, …"
      ]
     },
     "metadata": {},
     "output_type": "display_data"
    }
   ],
   "source": [
    "from demos import BLUE_demo4\n",
    "BLUE_demo4();"
   ]
  },
  {
   "cell_type": "markdown",
   "metadata": {},
   "source": [
    "## Variance of weighted sum\n",
    "\n",
    "The variance of an unbiased weighted sum is\n",
    "\n",
    "$$\\sigma_X^2 = w_1^2 \\sigma_{X_1}^2 + (1 - w_1)^2\\sigma_{X_2}^2.$$\n"
   ]
  },
  {
   "cell_type": "code",
   "execution_count": 4,
   "metadata": {},
   "outputs": [
    {
     "data": {
      "application/vnd.jupyter.widget-view+json": {
       "model_id": "bda9ff74c8db4fe284efa6bae2c691c9",
       "version_major": 2,
       "version_minor": 0
      },
      "text/plain": [
       "interactive(children=(FloatSlider(value=1.0, description='sigmaX1', max=4.0, min=0.1), FloatSlider(value=2.0, …"
      ]
     },
     "metadata": {},
     "output_type": "display_data"
    }
   ],
   "source": [
    "from demos import BLUE_demo5\n",
    "BLUE_demo5();"
   ]
  },
  {
   "cell_type": "markdown",
   "metadata": {},
   "source": [
    "## BLU estimator\n",
    "\n",
    "The BLU estimator calculates the optimal weight using\n",
    "\n",
    "$$ w_1 = \\frac{\\frac{1}{\\sigma_{X1}^2}}{\\frac{1}{\\sigma_{X_1}^2} + \\frac{1}{\\sigma_{X_2}^2}}.$$\n",
    "\n",
    "The resulting variance is\n",
    "\n",
    "$$\\sigma_X^2 = \\frac{1}{\\frac{1}{\\sigma_{X_1}^2} + \\frac{1}{\\sigma_{X_2}^2}}.$$\n"
   ]
  }
 ],
 "metadata": {
  "kernelspec": {
   "display_name": "Python 3",
   "language": "python",
   "name": "python3"
  },
  "language_info": {
   "codemirror_mode": {
    "name": "ipython",
    "version": 3
   },
   "file_extension": ".py",
   "mimetype": "text/x-python",
   "name": "python",
   "nbconvert_exporter": "python",
   "pygments_lexer": "ipython3",
   "version": "3.5.2"
  }
 },
 "nbformat": 4,
 "nbformat_minor": 2
}
