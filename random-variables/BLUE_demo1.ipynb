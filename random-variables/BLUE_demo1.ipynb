{
 "cells": [
  {
   "cell_type": "markdown",
   "metadata": {},
   "source": [
    "# Best linear unbiased estimation (BLUE)\n",
    "\n",
    "## Weighted sum\n",
    "\n",
    "In the following\n",
    "\n",
    "$$Z = w_1 Z_1 + w_2 Z_2.$$\n",
    "\n",
    "Unless $w_2 = 1 - w_1$ the estimator will be biased (it has a different mean to $Z_1$ and $Z_2$).  Notice, how the peak of the result is in the wrong place if the weights do not sum to 1."
   ]
  },
  {
   "cell_type": "code",
   "execution_count": 1,
   "metadata": {},
   "outputs": [
    {
     "data": {
      "application/vnd.jupyter.widget-view+json": {
       "model_id": "357318590c0e41bc846508eb66456c89",
       "version_major": 2,
       "version_minor": 0
      },
      "text/plain": [
       "interactive(children=(FloatSlider(value=0.5, description='w1', max=1.0), FloatSlider(value=0.5, description='w…"
      ]
     },
     "metadata": {},
     "output_type": "display_data"
    }
   ],
   "source": [
    "%matplotlib inline\n",
    "from demos import BLUE_demo1\n",
    "BLUE_demo1();"
   ]
  },
  {
   "cell_type": "markdown",
   "metadata": {},
   "source": [
    "## Unbiased weighted estimator\n",
    "\n",
    "In the following\n",
    "\n",
    "$$Z = w_1 Z_1 + (1 - w_1) Z_2.$$\n",
    "\n",
    "There is an optimal value of $w_1$ that minimises the variance of the result.  See if you can find it."
   ]
  },
  {
   "cell_type": "code",
   "execution_count": 2,
   "metadata": {},
   "outputs": [
    {
     "data": {
      "application/vnd.jupyter.widget-view+json": {
       "model_id": "31c83359395741de91a2929ea8349b09",
       "version_major": 2,
       "version_minor": 0
      },
      "text/plain": [
       "interactive(children=(FloatSlider(value=1.0, description='sigmaZ1', max=4.0, min=0.5), FloatSlider(value=2.0, …"
      ]
     },
     "metadata": {},
     "output_type": "display_data"
    }
   ],
   "source": [
    "from demos import BLUE_demo3\n",
    "BLUE_demo3();"
   ]
  },
  {
   "cell_type": "code",
   "execution_count": 3,
   "metadata": {},
   "outputs": [
    {
     "data": {
      "application/vnd.jupyter.widget-view+json": {
       "model_id": "ce176c2793004717a74872b53ec501dd",
       "version_major": 2,
       "version_minor": 0
      },
      "text/plain": [
       "interactive(children=(FloatSlider(value=1.0, description='sigmaZ1', max=4.0, min=0.5), FloatSlider(value=2.0, …"
      ]
     },
     "metadata": {},
     "output_type": "display_data"
    }
   ],
   "source": [
    "from demos import BLUE_demo4\n",
    "BLUE_demo4();"
   ]
  },
  {
   "cell_type": "markdown",
   "metadata": {},
   "source": [
    "## Variance of weighted sum\n",
    "\n",
    "The variance of an unbiased weighted sum is\n",
    "\n",
    "$$\\sigma_Z^2 = w_1^2 \\sigma_{Z_1}^2 + (1 - w_1)^2\\sigma_{Z_2}^2.$$\n"
   ]
  },
  {
   "cell_type": "code",
   "execution_count": 4,
   "metadata": {},
   "outputs": [
    {
     "data": {
      "application/vnd.jupyter.widget-view+json": {
       "model_id": "c92038c9035e416cbf9f3ecdd8c9e260",
       "version_major": 2,
       "version_minor": 0
      },
      "text/plain": [
       "interactive(children=(FloatSlider(value=1.0, description='sigmaZ1', max=4.0, min=0.1), FloatSlider(value=2.0, …"
      ]
     },
     "metadata": {},
     "output_type": "display_data"
    }
   ],
   "source": [
    "from demos import BLUE_demo5\n",
    "BLUE_demo5();"
   ]
  },
  {
   "cell_type": "markdown",
   "metadata": {},
   "source": [
    "## BLU estimator\n",
    "\n",
    "The BLU estimator calculates the optimal weight using\n",
    "\n",
    "$$ w_1 = \\frac{\\frac{1}{\\sigma_{Z1}^2}}{\\frac{1}{\\sigma_{Z_1}^2} + \\frac{1}{\\sigma_{Z_2}^2}}.$$\n",
    "\n",
    "The resulting variance is\n",
    "\n",
    "$$\\sigma_Z^2 = \\frac{1}{\\frac{1}{\\sigma_{Z_1}^2} + \\frac{1}{\\sigma_{Z_2}^2}}.$$\n"
   ]
  }
 ],
 "metadata": {
  "kernelspec": {
   "display_name": "Python 3",
   "language": "python",
   "name": "python3"
  },
  "language_info": {
   "codemirror_mode": {
    "name": "ipython",
    "version": 3
   },
   "file_extension": ".py",
   "mimetype": "text/x-python",
   "name": "python",
   "nbconvert_exporter": "python",
   "pygments_lexer": "ipython3",
   "version": "3.7.7"
  }
 },
 "nbformat": 4,
 "nbformat_minor": 2
}
