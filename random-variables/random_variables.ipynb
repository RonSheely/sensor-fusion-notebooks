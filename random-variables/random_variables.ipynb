{
 "cells": [
  {
   "cell_type": "markdown",
   "metadata": {},
   "source": [
    "# Random variables"
   ]
  },
  {
   "cell_type": "markdown",
   "metadata": {},
   "source": [
    "A continuous random variable, $X$, is described by its probability density function (PDF).  This is denoted\n",
    "\n",
    "$$X \\sim f_X(x).$$\n",
    "\n",
    "Note, the uppercase $X$ denotes the name of the random variable while the lower case $x$ denotes a particular value."
   ]
  },
  {
   "cell_type": "markdown",
   "metadata": {},
   "source": [
    "## Uniform random variables\n",
    "\n",
    "A uniform random variable, $X$, is denoted\n",
    "\n",
    "$$X \\sim \\mathcal{U}(a, b),$$\n",
    "\n",
    "where\n",
    "\n",
    "$$f_X(x) = \\left\\{\\begin{array}{ll} 0 & x < a\\\\ \\frac{1}{b-a} & a \\le x \\le b\\\\ 0 & x > b \\end{array}\\right.,$$\n",
    "\n",
    "with a mean\n",
    "\n",
    "$$\\mu_X = \\frac{a + b}{2},$$\n",
    "\n",
    "and a standard deviation\n",
    "\n",
    "$$\\sigma_X = \\frac{b - a}{\\sqrt{12}}.$$\n"
   ]
  },
  {
   "cell_type": "code",
   "execution_count": 1,
   "metadata": {},
   "outputs": [
    {
     "data": {
      "application/vnd.jupyter.widget-view+json": {
       "model_id": "1fc3812c25d64a14b534d42ac0ca7f90",
       "version_major": 2,
       "version_minor": 0
      },
      "text/plain": [
       "interactive(children=(IntSlider(value=-1, description='a', max=5, min=-5), IntSlider(value=1, description='b',…"
      ]
     },
     "metadata": {},
     "output_type": "display_data"
    }
   ],
   "source": [
    "%matplotlib inline\n",
    "from demos import uniform_demo1\n",
    "uniform_demo1();"
   ]
  },
  {
   "cell_type": "markdown",
   "metadata": {},
   "source": [
    "## Gaussian random variables\n",
    "\n",
    "A Gaussian random variable, $X$, is denoted\n",
    "\n",
    "$$X \\sim \\mathcal{N}(\\mu_X, \\sigma_X),$$\n",
    "\n",
    "with a PDF parameterised by a mean, $\\mu_X$, and a standard-deviation, $\\sigma_X$,\n",
    "\n",
    "$$f_X(x) = \\frac{1}{\\sqrt{2\\pi \\sigma^2_X}} \\exp\\left(-0.5 \\left(\\frac{x - \\mu_X}{\\sigma_X}\\right)^2 \\right).$$"
   ]
  },
  {
   "cell_type": "code",
   "execution_count": 2,
   "metadata": {},
   "outputs": [
    {
     "data": {
      "application/vnd.jupyter.widget-view+json": {
       "model_id": "6f852902dfd6420f852422113377735c",
       "version_major": 2,
       "version_minor": 0
      },
      "text/plain": [
       "interactive(children=(IntSlider(value=0, description='muX', max=5, min=-5), FloatSlider(value=1.0, description…"
      ]
     },
     "metadata": {},
     "output_type": "display_data"
    }
   ],
   "source": [
    "%matplotlib inline\n",
    "from demos import gauss_demo1\n",
    "gauss_demo1();"
   ]
  },
  {
   "cell_type": "markdown",
   "metadata": {},
   "source": [
    "## Scaled random variable\n",
    "\n",
    "A random variable, $X$, scaled by a constant $a$ is another random variable\n",
    "\n",
    "$$Y = a X,$$\n",
    "\n",
    "with a PDF\n",
    "\n",
    "$$f_Y(y) = f_X\\left(\\frac{y}{a}\\right).$$\n",
    "\n",
    "The mean is scaled by the factor $a$,\n",
    "\n",
    "$$\\mu_Y = a \\mu_X,$$\n",
    "\n",
    "and the variance is scaled by the modulus of $a$,\n",
    "\n",
    "$$\\sigma^2_Y = |a| \\sigma^2_X.$$\n"
   ]
  },
  {
   "cell_type": "code",
   "execution_count": 3,
   "metadata": {},
   "outputs": [
    {
     "data": {
      "application/vnd.jupyter.widget-view+json": {
       "model_id": "713c2c7e11a94e8481ba1cf3192a3753",
       "version_major": 2,
       "version_minor": 0
      },
      "text/plain": [
       "interactive(children=(IntSlider(value=0, description='muX', max=5, min=-5), FloatSlider(value=1.0, description…"
      ]
     },
     "metadata": {},
     "output_type": "display_data"
    }
   ],
   "source": [
    "from demos import gauss_scaled_demo1\n",
    "gauss_scaled_demo1();"
   ]
  },
  {
   "cell_type": "markdown",
   "metadata": {},
   "source": [
    "## Sum of two random variables\n",
    "\n",
    "Consider the sum of two random variables,\n",
    "\n",
    "$$ Z = X + Y.$$\n",
    "\n",
    "The result, $Z$, is also a random variable.   It has a PDF given by the convolution of the PDF of $X$ with the PDF of $Y$,\n",
    "\n",
    "$$f_Z(z) = \\int_{-\\infty}^{\\infty} f_X(z-y) f_Y(y) \\mathrm{d}y.$$\n"
   ]
  },
  {
   "cell_type": "code",
   "execution_count": 4,
   "metadata": {},
   "outputs": [
    {
     "data": {
      "application/vnd.jupyter.widget-view+json": {
       "model_id": "4c26ce0daf3d4384b7a08e8660a2b4c8",
       "version_major": 2,
       "version_minor": 0
      },
      "text/plain": [
       "interactive(children=(IntSlider(value=0, description='muX', max=2, min=-2), FloatSlider(value=1.0, description…"
      ]
     },
     "metadata": {},
     "output_type": "display_data"
    }
   ],
   "source": [
    "from demos import rv_sum_demo1\n",
    "rv_sum_demo1();"
   ]
  },
  {
   "cell_type": "markdown",
   "metadata": {},
   "source": [
    "## Sum of two Gaussian random variables\n",
    "\n",
    "The sum of two Gaussian random variables is also Gaussian distributed (the convolution of a Gaussian with another Gaussian produces another Gaussian).  The mean of $Z$ is the sum of the mean of $X$ and the mean of $Y$:\n",
    "\n",
    "$$\\mu_Z = \\mu_X + \\mu_Y,$$\n",
    "\n",
    "and the variance of $Z$ is the sum of the variance of $X$ and the variance of $Y$,\n",
    "\n",
    "$$\\sigma^2_Z = \\sigma^2_X + \\sigma^2_Y.$$"
   ]
  },
  {
   "cell_type": "code",
   "execution_count": 5,
   "metadata": {},
   "outputs": [
    {
     "data": {
      "application/vnd.jupyter.widget-view+json": {
       "model_id": "d5ded39e3153401998f01916f78c965e",
       "version_major": 2,
       "version_minor": 0
      },
      "text/plain": [
       "interactive(children=(IntSlider(value=0, description='muX', max=5, min=-5), FloatSlider(value=1.0, description…"
      ]
     },
     "metadata": {},
     "output_type": "display_data"
    }
   ],
   "source": [
    "from demos import gauss_sum_demo1\n",
    "gauss_sum_demo1();"
   ]
  },
  {
   "cell_type": "markdown",
   "metadata": {},
   "source": [
    "## Sum of many independent, identically distributed random variables\n",
    "\n",
    "When many independent, identically distributed random variables are added together, the resultant distribution becomes Gaussian.  This is known as the central limit theorem.\n",
    "\n",
    "In the following demo, increase $N$ to see the shape of the resultant distribution for the random variable $Z$ formed by summing $N$ independent, identically distributed random variables, $X_n$:\n",
    "\n",
    "$$Z = \\sum_{n=0}^{N-1} X_n.$$\n"
   ]
  },
  {
   "cell_type": "code",
   "execution_count": 6,
   "metadata": {},
   "outputs": [
    {
     "data": {
      "application/vnd.jupyter.widget-view+json": {
       "model_id": "8cb8505ee95a425c8ad5c18824f3b7b2",
       "version_major": 2,
       "version_minor": 0
      },
      "text/plain": [
       "interactive(children=(IntSlider(value=0, description='muX', max=2, min=-2), FloatSlider(value=1.0, description…"
      ]
     },
     "metadata": {},
     "output_type": "display_data"
    }
   ],
   "source": [
    "from demos import rv_sum_demo1\n",
    "rv_sum_demo1();"
   ]
  },
  {
   "cell_type": "markdown",
   "metadata": {},
   "source": [
    "## Monte-Carlo analysis"
   ]
  },
  {
   "cell_type": "code",
   "execution_count": 7,
   "metadata": {},
   "outputs": [],
   "source": [
    "# from demos import monte_carlo_demo1\n",
    "# FIXME\n",
    "# monte_carlo_demo1();"
   ]
  }
 ],
 "metadata": {
  "kernelspec": {
   "display_name": "Python 3",
   "language": "python",
   "name": "python3"
  },
  "language_info": {
   "codemirror_mode": {
    "name": "ipython",
    "version": 3
   },
   "file_extension": ".py",
   "mimetype": "text/x-python",
   "name": "python",
   "nbconvert_exporter": "python",
   "pygments_lexer": "ipython3",
   "version": "3.5.2"
  }
 },
 "nbformat": 4,
 "nbformat_minor": 2
}
