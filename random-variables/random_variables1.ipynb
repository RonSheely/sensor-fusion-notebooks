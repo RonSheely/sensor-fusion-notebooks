{
 "cells": [
  {
   "cell_type": "markdown",
   "metadata": {},
   "source": [
    "# Random variables"
   ]
  },
  {
   "cell_type": "markdown",
   "metadata": {},
   "source": [
    "A continuous random variable, $X$, is described by its probability density function (PDF).  This is denoted\n",
    "\n",
    "$$X \\sim f_X(x).$$\n",
    "\n",
    "Note, the uppercase $X$ denotes the name of the random variable while the lower case $x$ denotes a particular value."
   ]
  },
  {
   "cell_type": "markdown",
   "metadata": {},
   "source": [
    "## Gaussian random variables\n",
    "\n",
    "Gaussian random variables have a PDF parameterised by a mean, $\\mu_X$, and a standard-deviation, $\\sigma_X$,\n",
    "\n",
    "$$f_X(x) = \\frac{1}{\\sqrt{2\\pi \\sigma^2_X}} \\exp\\left(-0.5 \\frac{\\left(x - \\mu_X\\right)^2}{\\sigma^2_X} \\right).$$"
   ]
  },
  {
   "cell_type": "code",
   "execution_count": 6,
   "metadata": {},
   "outputs": [
    {
     "data": {
      "application/vnd.jupyter.widget-view+json": {
       "model_id": "c696a8a847704a599fe32a602c66c34c",
       "version_major": 2,
       "version_minor": 0
      },
      "text/plain": [
       "interactive(children=(IntSlider(value=0, description='muX', max=5, min=-5), FloatSlider(value=1.0, description…"
      ]
     },
     "metadata": {},
     "output_type": "display_data"
    }
   ],
   "source": [
    "from demos import gauss_demo1\n",
    "gauss_demo1();"
   ]
  },
  {
   "cell_type": "markdown",
   "metadata": {},
   "source": [
    "## Scaled random variable\n",
    "\n",
    "A random variable, $X$, scaled by a constant $a$ is another random variable\n",
    "\n",
    "$$Y = a X,$$\n",
    "\n",
    "with a PDF\n",
    "\n",
    "$$f_Y(y) = f_X\\left(\\frac{y}{a}\\right).$$\n",
    "\n",
    "The mean is scaled by the factor $a$,\n",
    "\n",
    "$$\\mu_Y = a \\mu_X,$$\n",
    "\n",
    "and the standard deviation is scaled by the modulus of $a$,\n",
    "\n",
    "$$\\sigma_Y = |a| \\sigma_X.$$\n"
   ]
  },
  {
   "cell_type": "code",
   "execution_count": 6,
   "metadata": {},
   "outputs": [
    {
     "data": {
      "application/vnd.jupyter.widget-view+json": {
       "model_id": "a698142cb188466e94b096fc3afc968b",
       "version_major": 2,
       "version_minor": 0
      },
      "text/plain": [
       "interactive(children=(IntSlider(value=0, description='muX', max=5, min=-5), FloatSlider(value=1.0, description…"
      ]
     },
     "metadata": {},
     "output_type": "display_data"
    }
   ],
   "source": [
    "from demos import gauss_scaled_demo1\n",
    "gauss_scaled_demo1();"
   ]
  },
  {
   "cell_type": "markdown",
   "metadata": {},
   "source": [
    "## Sum of two random variables\n",
    "\n",
    "Consider the sum of two random variables,\n",
    "\n",
    "$$ Z = X + Y.$$\n",
    "\n",
    "The result, $Z$, is also a random variable.   It has a PDF given by the convolution of the PDF of $X$ with the PDF of $Y$,\n",
    "\n",
    "$$f_Z(z) = \\int_{-\\infty}^{\\infty} f_X(z-y) f_Y(y) \\mathrm{d}y.$$\n"
   ]
  },
  {
   "cell_type": "code",
   "execution_count": 2,
   "metadata": {},
   "outputs": [
    {
     "data": {
      "application/vnd.jupyter.widget-view+json": {
       "model_id": "45e92f3fc5dc4048b5ac15be9505e2b0",
       "version_major": 2,
       "version_minor": 0
      },
      "text/plain": [
       "interactive(children=(IntSlider(value=0, description='muX', max=5, min=-5), FloatSlider(value=1.0, description…"
      ]
     },
     "metadata": {},
     "output_type": "display_data"
    }
   ],
   "source": []
  },
  {
   "cell_type": "markdown",
   "metadata": {},
   "source": [
    "## Sum of two Gaussian random variables\n",
    "\n",
    "The sum of two Gaussian random variables is also Gaussian distributed (the convolution of a Gaussian with another Gaussian produces another Gaussian).  The mean of $Z$ is the sum of the mean of $X$ and the mean of $Y$:\n",
    "\n",
    "$$\\mu_Z = \\mu_X + \\mu_Y,$$\n",
    "\n",
    "and the variance of $Z$ is the sum of the variance of $X$ and the variance of $Y$,\n",
    "\n",
    "$$\\sigma^2_Z = \\sigma^2_X + \\sigma^2_Y.$$"
   ]
  },
  {
   "cell_type": "code",
   "execution_count": 2,
   "metadata": {},
   "outputs": [
    {
     "data": {
      "application/vnd.jupyter.widget-view+json": {
       "model_id": "f15b231411d54767a398a43094e18d17",
       "version_major": 2,
       "version_minor": 0
      },
      "text/plain": [
       "interactive(children=(IntSlider(value=0, description='muX', max=5, min=-5), FloatSlider(value=1.0, description…"
      ]
     },
     "metadata": {},
     "output_type": "display_data"
    }
   ],
   "source": [
    "from demos import gauss_sum_demo1\n",
    "gauss_sum_demo1();"
   ]
  }
 ],
 "metadata": {
  "kernelspec": {
   "display_name": "Python 3",
   "language": "python",
   "name": "python3"
  },
  "language_info": {
   "codemirror_mode": {
    "name": "ipython",
    "version": 3
   },
   "file_extension": ".py",
   "mimetype": "text/x-python",
   "name": "python",
   "nbconvert_exporter": "python",
   "pygments_lexer": "ipython3",
   "version": "3.5.2"
  }
 },
 "nbformat": 4,
 "nbformat_minor": 2
}
